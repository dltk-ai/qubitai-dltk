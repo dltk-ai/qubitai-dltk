{
 "cells": [
  {
   "cell_type": "markdown",
   "metadata": {},
   "source": [
    "### DLTK ML Regression Tutorial"
   ]
  },
  {
   "cell_type": "code",
   "execution_count": null,
   "metadata": {},
   "outputs": [],
   "source": [
    "# If you are running this notebook on GOOGLE COLAB, uncomment below code & run this cell\n",
    "\n",
    "# !git clone https://github.com/dltk-ai/qubitai-dltk.git\n",
    "# %cd qubitai-dltk/examples/machine_learning/\n",
    "# !pip install qubitai-dltk"
   ]
  },
  {
   "cell_type": "code",
   "execution_count": 1,
   "metadata": {},
   "outputs": [],
   "source": [
    "# if using source code\n",
    "\n",
    "import os\n",
    "os.chdir(\"../../\")"
   ]
  },
  {
   "cell_type": "markdown",
   "metadata": {},
   "source": [
    "#### <font color=black> Importing Packages"
   ]
  },
  {
   "cell_type": "code",
   "execution_count": 2,
   "metadata": {},
   "outputs": [],
   "source": [
    "import json\n",
    "\n",
    "import dltk_ai\n",
    "from dltk_ai import data_preprocessing\n",
    "from dltk_ai import helper\n",
    "from dltk_ai.dataset_types import Dataset\n",
    "from getpass import getpass"
   ]
  },
  {
   "cell_type": "markdown",
   "metadata": {},
   "source": [
    "#### Data"
   ]
  },
  {
   "cell_type": "markdown",
   "metadata": {},
   "source": [
    "The Boston Housing Dataset\n",
    "\n",
    "The Boston Housing Dataset is a derived from information collected by the U.S. Census Service concerning housing in the area of Boston MA. The following describes the dataset columns:\n",
    "\n",
    "The description of these variables:\n",
    "\n",
    "**CRIM**: Per capita crime rate by town\n",
    "\n",
    "**ZN**: Proportion of residential land zoned for lots over 25,000 sq. ft\n",
    "\n",
    "**INDUS**: Proportion of non-retail business acres per town\n",
    "\n",
    "**CHAS**: Charles River dummy variable (= 1 if tract bounds river; 0 otherwise)\n",
    "\n",
    "**NOX**: Nitric oxide concentration (parts per 10 million)\n",
    "\n",
    "**RM**: Average number of rooms per dwelling\n",
    "\n",
    "**AGE**: Proportion of owner-occupied units built prior to 1940\n",
    "\n",
    "**DIS**: Weighted distances to five Boston employment centers\n",
    "\n",
    "**RAD**: Index of accessibility to radial highways\n",
    "\n",
    "**TAX**: Full-value property tax rate per $10,000\n",
    "\n",
    "**PTRATIO**: Pupil-teacher ratio by town\n",
    "\n",
    "**B**: 1000(Bk — 0.63)², where Bk is the proportion of [people of African American descent] by town\n",
    "\n",
    "**LSTAT**: Percentage of lower status of the population\n",
    "\n",
    "**MEDV** - Median value of owner-occupied homes in $1000's    \n",
    "    "
   ]
  },
  {
   "cell_type": "code",
   "execution_count": 3,
   "metadata": {},
   "outputs": [
    {
     "data": {
      "text/html": [
       "<div>\n",
       "<style scoped>\n",
       "    .dataframe tbody tr th:only-of-type {\n",
       "        vertical-align: middle;\n",
       "    }\n",
       "\n",
       "    .dataframe tbody tr th {\n",
       "        vertical-align: top;\n",
       "    }\n",
       "\n",
       "    .dataframe thead th {\n",
       "        text-align: right;\n",
       "    }\n",
       "</style>\n",
       "<table border=\"1\" class=\"dataframe\">\n",
       "  <thead>\n",
       "    <tr style=\"text-align: right;\">\n",
       "      <th></th>\n",
       "      <th>CRIM</th>\n",
       "      <th>ZN</th>\n",
       "      <th>INDUS</th>\n",
       "      <th>CHAS</th>\n",
       "      <th>NOX</th>\n",
       "      <th>RM</th>\n",
       "      <th>AGE</th>\n",
       "      <th>DIS</th>\n",
       "      <th>RAD</th>\n",
       "      <th>TAX</th>\n",
       "      <th>PTRATIO</th>\n",
       "      <th>B</th>\n",
       "      <th>LSTAT</th>\n",
       "      <th>MEDV</th>\n",
       "    </tr>\n",
       "  </thead>\n",
       "  <tbody>\n",
       "    <tr>\n",
       "      <th>0</th>\n",
       "      <td>1.15172</td>\n",
       "      <td>0.0</td>\n",
       "      <td>8.14</td>\n",
       "      <td>0</td>\n",
       "      <td>0.538</td>\n",
       "      <td>5.701</td>\n",
       "      <td>95.0</td>\n",
       "      <td>3.7872</td>\n",
       "      <td>4</td>\n",
       "      <td>307</td>\n",
       "      <td>21.0</td>\n",
       "      <td>358.77</td>\n",
       "      <td>18.35</td>\n",
       "      <td>13.1</td>\n",
       "    </tr>\n",
       "    <tr>\n",
       "      <th>1</th>\n",
       "      <td>0.01501</td>\n",
       "      <td>90.0</td>\n",
       "      <td>1.21</td>\n",
       "      <td>1</td>\n",
       "      <td>0.401</td>\n",
       "      <td>7.923</td>\n",
       "      <td>24.8</td>\n",
       "      <td>5.8850</td>\n",
       "      <td>1</td>\n",
       "      <td>198</td>\n",
       "      <td>13.6</td>\n",
       "      <td>395.52</td>\n",
       "      <td>3.16</td>\n",
       "      <td>50.0</td>\n",
       "    </tr>\n",
       "    <tr>\n",
       "      <th>2</th>\n",
       "      <td>73.53410</td>\n",
       "      <td>0.0</td>\n",
       "      <td>18.10</td>\n",
       "      <td>0</td>\n",
       "      <td>0.679</td>\n",
       "      <td>5.957</td>\n",
       "      <td>100.0</td>\n",
       "      <td>1.8026</td>\n",
       "      <td>24</td>\n",
       "      <td>666</td>\n",
       "      <td>20.2</td>\n",
       "      <td>16.45</td>\n",
       "      <td>20.62</td>\n",
       "      <td>8.8</td>\n",
       "    </tr>\n",
       "    <tr>\n",
       "      <th>3</th>\n",
       "      <td>0.04527</td>\n",
       "      <td>0.0</td>\n",
       "      <td>11.93</td>\n",
       "      <td>0</td>\n",
       "      <td>0.573</td>\n",
       "      <td>6.120</td>\n",
       "      <td>76.7</td>\n",
       "      <td>2.2875</td>\n",
       "      <td>1</td>\n",
       "      <td>273</td>\n",
       "      <td>21.0</td>\n",
       "      <td>396.90</td>\n",
       "      <td>9.08</td>\n",
       "      <td>20.6</td>\n",
       "    </tr>\n",
       "    <tr>\n",
       "      <th>4</th>\n",
       "      <td>9.59571</td>\n",
       "      <td>0.0</td>\n",
       "      <td>18.10</td>\n",
       "      <td>0</td>\n",
       "      <td>0.693</td>\n",
       "      <td>6.404</td>\n",
       "      <td>100.0</td>\n",
       "      <td>1.6390</td>\n",
       "      <td>24</td>\n",
       "      <td>666</td>\n",
       "      <td>20.2</td>\n",
       "      <td>376.11</td>\n",
       "      <td>20.31</td>\n",
       "      <td>12.1</td>\n",
       "    </tr>\n",
       "  </tbody>\n",
       "</table>\n",
       "</div>"
      ],
      "text/plain": [
       "       CRIM    ZN  INDUS  CHAS    NOX     RM    AGE     DIS  RAD  TAX  \\\n",
       "0   1.15172   0.0   8.14     0  0.538  5.701   95.0  3.7872    4  307   \n",
       "1   0.01501  90.0   1.21     1  0.401  7.923   24.8  5.8850    1  198   \n",
       "2  73.53410   0.0  18.10     0  0.679  5.957  100.0  1.8026   24  666   \n",
       "3   0.04527   0.0  11.93     0  0.573  6.120   76.7  2.2875    1  273   \n",
       "4   9.59571   0.0  18.10     0  0.693  6.404  100.0  1.6390   24  666   \n",
       "\n",
       "   PTRATIO       B  LSTAT  MEDV  \n",
       "0     21.0  358.77  18.35  13.1  \n",
       "1     13.6  395.52   3.16  50.0  \n",
       "2     20.2   16.45  20.62   8.8  \n",
       "3     21.0  396.90   9.08  20.6  \n",
       "4     20.2  376.11  20.31  12.1  "
      ]
     },
     "execution_count": 3,
     "metadata": {},
     "output_type": "execute_result"
    }
   ],
   "source": [
    "# Read data into a dataframe\n",
    "dataset = data_preprocessing.read_data('examples/data/csv/boston_train.csv')\n",
    "dataset.head()"
   ]
  },
  {
   "cell_type": "code",
   "execution_count": 4,
   "metadata": {},
   "outputs": [
    {
     "data": {
      "text/plain": [
       "(404, 14)"
      ]
     },
     "execution_count": 4,
     "metadata": {},
     "output_type": "execute_result"
    }
   ],
   "source": [
    "#Shape of the data\n",
    "dataset.shape\n"
   ]
  },
  {
   "cell_type": "markdown",
   "metadata": {},
   "source": [
    "#### Data Profile\n"
   ]
  },
  {
   "cell_type": "code",
   "execution_count": 5,
   "metadata": {},
   "outputs": [
    {
     "data": {
      "text/html": [
       "\n",
       "        <iframe\n",
       "            width=\"100%\"\n",
       "            height=\"475\"\n",
       "            src=\"http://DESKTOP-10ROGHH:40001/dtale/iframe/1\"\n",
       "            frameborder=\"0\"\n",
       "            allowfullscreen\n",
       "        ></iframe>\n",
       "        "
      ],
      "text/plain": [
       "<IPython.lib.display.IFrame at 0x2036dcc23d0>"
      ]
     },
     "metadata": {},
     "output_type": "display_data"
    },
    {
     "data": {
      "text/plain": []
     },
     "execution_count": 5,
     "metadata": {},
     "output_type": "execute_result"
    }
   ],
   "source": [
    "data_preprocessing.data_profile(dataset)"
   ]
  },
  {
   "cell_type": "markdown",
   "metadata": {},
   "source": [
    "In the above output, please click on the **play button**.\n",
    "\n",
    "In the **describe** section, you will be able to see the characteristics of all the variables.\n",
    "\n",
    "* Variable ZS has 0 value for 25th & 50th Quantile\n",
    "* Variable CHAS has 0 value for 25th, 50th & 75th Percentile. \n",
    "* These columns may not be useful in predicting MEDV\n",
    "\n",
    "**Distribution of Target Variable**\n",
    "\n",
    "* We see that the values of MEDV (target variable) has few outliers.\n",
    "\n",
    "**Distribution of other variables**\n",
    "\n",
    "* Most of the predictors contain outliers.\n",
    "    \n",
    "**Correlation**\n",
    "\n",
    "In the **correlations** section, from the matrix,\n",
    "\n",
    "    * We see TAX and RAD are highly correlated features. The columns LSTAT, INDUS, RM, TAX, NOX, PTRAIO has a correlation score above 0.5 with MEDV which is a good indication of using as predictors."
   ]
  },
  {
   "cell_type": "markdown",
   "metadata": {},
   "source": [
    "#### Data Preprocessing"
   ]
  },
  {
   "cell_type": "code",
   "execution_count": 6,
   "metadata": {},
   "outputs": [
    {
     "data": {
      "text/plain": [
       "<AxesSubplot:>"
      ]
     },
     "execution_count": 6,
     "metadata": {},
     "output_type": "execute_result"
    },
    {
     "data": {
      "image/png": "[encoded data removed]",
      "text/plain": [
       "<Figure size 432x288 with 1 Axes>"
      ]
     },
     "metadata": {
      "needs_background": "light"
     },
     "output_type": "display_data"
    }
   ],
   "source": [
    "# Distribution of target variable\n",
    "dataset[\"MEDV\"].hist()"
   ]
  },
  {
   "cell_type": "markdown",
   "metadata": {},
   "source": [
    "#### Outlier Treatment"
   ]
  },
  {
   "cell_type": "code",
   "execution_count": 7,
   "metadata": {},
   "outputs": [
    {
     "data": {
      "text/plain": [
       "<AxesSubplot:>"
      ]
     },
     "execution_count": 7,
     "metadata": {},
     "output_type": "execute_result"
    },
    {
     "data": {
      "image/png": "[encoded data removed]",
      "text/plain": [
       "<Figure size 432x288 with 1 Axes>"
      ]
     },
     "metadata": {
      "needs_background": "light"
     },
     "output_type": "display_data"
    }
   ],
   "source": [
    "# Treat outliers from the target varible\n",
    "# remove data where 'MEDV' has outliers\n",
    "data = data_preprocessing.treat_outliers(dataset,['MEDV'],method=\"remove\",value=True)\n",
    "\n",
    "# Distribution of Target Variable after removing Outliers\n",
    "data['MEDV'].hist()"
   ]
  },
  {
   "cell_type": "markdown",
   "metadata": {},
   "source": [
    "#### Feature Scaling\n",
    "\n",
    "##### **Importance of Scaling**\n",
    "\n",
    "<font color=black> If there is a vast difference in the range of the input data, machine learning algorithms underlying assumption that higher ranging numbers have superiority of some sort. So these more significant number starts playing a more decisive role while training the model."
   ]
  },
  {
   "cell_type": "code",
   "execution_count": 8,
   "metadata": {
    "scrolled": true
   },
   "outputs": [],
   "source": [
    "## MinMax scaler from dltk\n",
    "scaler_columns = ['LSTAT', 'INDUS', 'NOX', 'PTRATIO', 'RM', 'TAX', 'DIS', 'AGE']\n",
    "\n",
    "scaled_data = data_preprocessing.feature_scaling(data, scaler_columns, method=\"minmaxscaler\")\n",
    "\n",
    "scaled_data['MEDV'] = data['MEDV']\n",
    "scaled_data.to_csv('boston_train_processed.csv',index=False)"
   ]
  },
  {
   "cell_type": "code",
   "execution_count": 9,
   "metadata": {},
   "outputs": [],
   "source": [
    "# Preprocessing Prediction Data\n",
    "pred_dataset = data_preprocessing.read_data('examples/data/csv/boston_test.csv')\n",
    "\n",
    "pred_scaler_columns = ['LSTAT', 'INDUS', 'NOX', 'PTRATIO', 'RM', 'TAX', 'DIS', 'AGE']\n",
    "\n",
    "pred_scaled_data = data_preprocessing.feature_scaling(pred_dataset, pred_scaler_columns, method=\"minmaxscaler\")\n",
    "\n",
    "\n",
    "# save preprocessed prediction dataset\n",
    "pred_scaled_data.to_csv('boston_prediction_processed.csv',index=False)"
   ]
  },
  {
   "cell_type": "markdown",
   "metadata": {},
   "source": [
    "#### Initializing DLTK Client"
   ]
  },
  {
   "cell_type": "markdown",
   "metadata": {},
   "source": [
    "Please check qubitai-dltk documentation on setting up dltk **link**\n",
    "\n",
    "> <u>Parameters Descriptions</u>\n",
    ">\n",
    "> **API key**: `If authentication is enabled`, you need to provide a valid API key\n",
    ">\n",
    "> **base_url**: url where kong/base service provided by OpenDLTK is deployed."
   ]
  },
  {
   "cell_type": "code",
   "execution_count": 11,
   "metadata": {},
   "outputs": [
    {
     "name": "stdout",
     "output_type": "stream",
     "text": [
      "Valid API key (default=None) : ········\n",
      "Endpoint for openDLTK (default=http://localhost:5000) : https://preprod-gcp-kong.dltk.ai\n"
     ]
    }
   ],
   "source": [
    "api_key = getpass(\"Valid API key (default=None) : \") or None\n",
    "base_url = input(\"Endpoint for openDLTK (default=http://localhost:5000) : \") or \"http://localhost:5000\"\n",
    "\n",
    "client = dltk_ai.DltkAiClient(api_key, base_url)"
   ]
  },
  {
   "cell_type": "markdown",
   "metadata": {},
   "source": [
    "<div class=\"alert alert-block alert-info\">\n",
    "<b>See Also:</b> \n",
    "\n",
    " \n",
    "\n",
    "1. [How to generate API key](https://docs.dltk.ai/qubitai-dltk/docs/build/html/getting_started/generateAPIkey.html)\n",
    "2. [OpenDLTK deployment](http://docs.dltk.ai/qubitai-dltk/docs/build/html/getting_started/openDLTK_setup.html)\n",
    "\n",
    " \n",
    "\n",
    "</div>"
   ]
  },
  {
   "cell_type": "markdown",
   "metadata": {},
   "source": [
    "#### Uploading training data"
   ]
  },
  {
   "cell_type": "code",
   "execution_count": 12,
   "metadata": {},
   "outputs": [
    {
     "name": "stderr",
     "output_type": "stream",
     "text": [
      "C:\\Users\\kavya\\AppData\\Roaming\\Python\\Python38\\site-packages\\urllib3\\connectionpool.py:1013: InsecureRequestWarning:\n",
      "\n",
      "Unverified HTTPS request is being made to host 'preprod-gcp-kong.dltk.ai'. Adding certificate verification is strongly advised. See: https://urllib3.readthedocs.io/en/latest/advanced-usage.html#ssl-warnings\n",
      "\n"
     ]
    },
    {
     "name": "stdout",
     "output_type": "stream",
     "text": [
      "{'id': 536610601703051, 'userId': 687361782950394294, 'username': None, 'fileUrl': '/YOUR_S3_BUCKET/private/687361782950394294/Train_Data/1627031054174_boston_train_processed.csv', 's3Url': None, 'fileSize': 67263, 'fileName': 'boston_train_processed.csv', 'label': 'Train_Data', 'type': 'FILE', 'isPublic': False, 'cloudfrontUrl': None, 'cloudfrontUrlSigned': None, 's3Key': 'private/687361782950394294/Train_Data/1627031054174_boston_train_processed.csv', 'metadata': {'attributes': ['CRIM', 'ZN', 'INDUS', 'CHAS', 'NOX', 'RM', 'AGE', 'DIS', 'RAD', 'TAX', 'PTRATIO', 'B', 'LSTAT', 'MEDV']}, 'fileSystem': 'GCP', 'projectId': 0, 'isDefault': False, 'createdAt': '2021-07-23T09:04:14.594+00:00', 'updatedAt': '2021-07-23T09:04:14.594+00:00'}\n"
     ]
    }
   ],
   "source": [
    "# Upload Train dataset\n",
    "train_data_store_response = client.store('boston_train_processed.csv', Dataset.TRAIN_DATA)\n",
    "print(train_data_store_response)\n",
    "train_data = train_data_store_response['fileUrl']"
   ]
  },
  {
   "cell_type": "markdown",
   "metadata": {},
   "source": [
    "#### Uploading prediction data"
   ]
  },
  {
   "cell_type": "code",
   "execution_count": 13,
   "metadata": {},
   "outputs": [
    {
     "name": "stderr",
     "output_type": "stream",
     "text": [
      "C:\\Users\\kavya\\AppData\\Roaming\\Python\\Python38\\site-packages\\urllib3\\connectionpool.py:1013: InsecureRequestWarning:\n",
      "\n",
      "Unverified HTTPS request is being made to host 'preprod-gcp-kong.dltk.ai'. Adding certificate verification is strongly advised. See: https://urllib3.readthedocs.io/en/latest/advanced-usage.html#ssl-warnings\n",
      "\n"
     ]
    },
    {
     "name": "stdout",
     "output_type": "stream",
     "text": [
      "{'id': 538643912436237, 'userId': 687361782950394294, 'username': None, 'fileUrl': '/YOUR_S3_BUCKET/private/687361782950394294/Test_Data/1627031055237_boston_prediction_processed.csv', 's3Url': None, 'fileSize': 17636, 'fileName': 'boston_prediction_processed.csv', 'label': 'Test_Data', 'type': 'FILE', 'isPublic': False, 'cloudfrontUrl': None, 'cloudfrontUrlSigned': None, 's3Key': 'private/687361782950394294/Test_Data/1627031055237_boston_prediction_processed.csv', 'metadata': {'attributes': ['CRIM', 'ZN', 'INDUS', 'CHAS', 'NOX', 'RM', 'AGE', 'DIS', 'RAD', 'TAX', 'PTRATIO', 'B', 'LSTAT']}, 'fileSystem': 'GCP', 'projectId': 0, 'isDefault': False, 'createdAt': '2021-07-23T09:04:15.528+00:00', 'updatedAt': '2021-07-23T09:04:15.528+00:00'}\n"
     ]
    }
   ],
   "source": [
    "# Upload Train dataset\n",
    "prediction_data_store_response = client.store('boston_prediction_processed.csv', Dataset.TEST_DATA)\n",
    "print(prediction_data_store_response)\n",
    "prediction_data = prediction_data_store_response['fileUrl']"
   ]
  },
  {
   "cell_type": "markdown",
   "metadata": {},
   "source": [
    "#### Model Building"
   ]
  },
  {
   "cell_type": "markdown",
   "metadata": {},
   "source": [
    "Next step after uploading the dataset is to train a model using Train Dataset.\n",
    "Please check [qubitai-dltk document](https://docs.dltk.ai) for supported Libraries/framework for training a model.\n",
    "\n",
    "We will be building 2 models using RandomForest from scikit and LinearRegression from weka to check which is the best performing algorithm for this problem.\n",
    "\n",
    "**Model 1**\n",
    "\n",
    "*  **Library :** scikit\n",
    "*  **Algorithm :** RandomForest\n",
    "\n",
    "**Model 2** - Hyperparameter Tuning\n",
    "\n",
    "*  **Library :** scikit\n",
    "*  **Algorithm :** RandomForest\n",
    "\n",
    "**Model 3**\n",
    "\n",
    "*  **Library :** h2o\n",
    "*  **Algorithm :** LinearRegression\n"
   ]
  },
  {
   "cell_type": "markdown",
   "metadata": {},
   "source": [
    "#### Model 1\n"
   ]
  },
  {
   "cell_type": "code",
   "execution_count": 14,
   "metadata": {},
   "outputs": [],
   "source": [
    "# Define the task - Classification/Regression\n",
    "task = \"regression\"\n",
    "\n",
    "# Library to use (scikit, weka, h2o)\n",
    "library_1 = \"scikit\"\n",
    "algorithm_1 = \"RandomForest\"\n",
    "\n",
    "# features to be used for training\n",
    "features = ['LSTAT', 'INDUS', 'NOX', 'PTRATIO', 'RM', 'TAX', 'DIS', 'AGE']\n",
    "\n",
    "# Label to predict\n",
    "label = 'MEDV'\n",
    "\n",
    "# Train-test split percentage\n",
    "train_percentage_1 = 60"
   ]
  },
  {
   "cell_type": "markdown",
   "metadata": {},
   "source": [
    "#### Information about supported libraries & Hyperparameters"
   ]
  },
  {
   "cell_type": "markdown",
   "metadata": {},
   "source": [
    "1. To check list of supported libraries, we can use below code"
   ]
  },
  {
   "cell_type": "code",
   "execution_count": 15,
   "metadata": {},
   "outputs": [
    {
     "name": "stdout",
     "output_type": "stream",
     "text": [
      "Supported libraries for Machine Learning: ['scikit', 'weka', 'h2o']\n"
     ]
    }
   ],
   "source": [
    "dltk_ai.helper.get_ml_model_info(\"libraries\")"
   ]
  },
  {
   "cell_type": "markdown",
   "metadata": {},
   "source": [
    "2. To check list of supported algorithms under a supported library for classification task, For more details on supported algorithm check reference link"
   ]
  },
  {
   "cell_type": "code",
   "execution_count": 16,
   "metadata": {},
   "outputs": [
    {
     "name": "stdout",
     "output_type": "stream",
     "text": [
      "Supported algorithms for REGRESSION task in SCIKIT library are:\n",
      "\n",
      " algorithm : DecisionTrees,\n",
      " reference link: https://scikit-learn.org/stable/modules/generated/sklearn.tree.DecisionTreeRegressor.html\n",
      "\n",
      " algorithm : RandomForest,\n",
      " reference link: https://scikit-learn.org/stable/modules/generated/sklearn.ensemble.RandomForestRegressor.html\n",
      "\n",
      " algorithm : Bagging,\n",
      " reference link: https://scikit-learn.org/stable/modules/generated/sklearn.ensemble.BaggingRegressor.html\n",
      "\n",
      " algorithm : GradientBoostingMachines,\n",
      " reference link: https://scikit-learn.org/stable/modules/generated/sklearn.ensemble.GradientBoostingRegressor.html\n",
      "\n",
      " algorithm : XGradientBoosting,\n",
      " reference link: https://xgboost.readthedocs.io/en/latest/python/python_api.html#\n",
      "\n",
      " algorithm : ExtraTrees,\n",
      " reference link: https://scikit-learn.org/stable/modules/generated/sklearn.ensemble.ExtraTreesRegressor.html\n",
      "\n",
      " algorithm : AdaBoost,\n",
      " reference link: https://scikit-learn.org/stable/modules/generated/sklearn.ensemble.AdaBoostRegressor.html\n",
      "\n",
      " algorithm : SupportVectorMachines,\n",
      " reference link: https://scikit-learn.org/stable/modules/generated/sklearn.svm.SVR.html\n",
      "\n",
      " algorithm : LinearRegression,\n",
      " reference link: https://scikit-learn.org/stable/modules/generated/sklearn.linear_model.LinearRegression.html\n"
     ]
    }
   ],
   "source": [
    "dltk_ai.helper.get_ml_model_info(\"algorithms\", library='scikit', task='regression')"
   ]
  },
  {
   "cell_type": "code",
   "execution_count": 17,
   "metadata": {},
   "outputs": [
    {
     "name": "stdout",
     "output_type": "stream",
     "text": [
      "Supported hyperparameters for RANDOMFOREST algorithm in SCIKIT library are: \n",
      " \n",
      "Parameter                                              Default Value                 \n",
      "bootstrap                                              True                          \n",
      "ccp_alpha                                              0.0                           \n",
      "criterion                                              mse                           \n",
      "max_depth                                              None                          \n",
      "max_features                                           auto                          \n",
      "max_leaf_nodes                                         None                          \n",
      "max_samples                                            None                          \n",
      "min_impurity_decrease                                  0.0                           \n",
      "min_impurity_split                                     None                          \n",
      "min_samples_leaf                                       1                             \n",
      "min_samples_split                                      2                             \n",
      "min_weight_fraction_leaf                               0.0                           \n",
      "n_estimators                                           100                           \n",
      "n_jobs                                                 None                          \n",
      "oob_score                                              False                         \n",
      "random_state                                           None                          \n",
      "verbose                                                0                             \n",
      "warm_start                                             False                         \n",
      "\n",
      "for more info please refer https://scikit-learn.org/stable/modules/generated/sklearn.ensemble.RandomForestRegressor.html\n"
     ]
    }
   ],
   "source": [
    "dltk_ai.helper.get_ml_model_info(\"hyperparameters\", library='scikit', task='regression', algorithm='RandomForest')"
   ]
  },
  {
   "cell_type": "markdown",
   "metadata": {},
   "source": [
    "4. Set parameters for building the model"
   ]
  },
  {
   "cell_type": "code",
   "execution_count": 18,
   "metadata": {},
   "outputs": [],
   "source": [
    "randomforest_parameters = {\"bootstrap\":True, \"n_estimators\":300, \"oob_score\":True, \"min_samples_leaf\":3}"
   ]
  },
  {
   "cell_type": "markdown",
   "metadata": {},
   "source": [
    "##### send request for model training"
   ]
  },
  {
   "cell_type": "markdown",
   "metadata": {},
   "source": [
    "###  Model 1"
   ]
  },
  {
   "cell_type": "code",
   "execution_count": 19,
   "metadata": {},
   "outputs": [
    {
     "name": "stdout",
     "output_type": "stream",
     "text": [
      "{'code': 0, 'data': {'jobId': 174473, 'appId': 1608720742960, 'projectId': 0, 'name': 'scikit_regression_train', 'library': 'scikit', 'service': 'Regression', 'task': 'TRAIN', 'state': 'RUN', 'startTime': '2021-07-23T09:04:25.471+00:00', 'endTime': None, 'request': {'library': 'scikit', 'jobType': 'CSV', 'queryId': None, 'modelId': None, 'isSingle': False, 'singleRow': None, 'config': {'name': 'House Price Prediction Model M1', 'algorithm': 'RandomForest', 'datasetUrl': '/YOUR_S3_BUCKET/private/687361782950394294/Train_Data/1627031054174_boston_train_processed.csv', 'label': 'MEDV', 'trainPercentage': 60, 'features': ['LSTAT', 'INDUS', 'NOX', 'PTRATIO', 'RM', 'TAX', 'DIS', 'AGE'], 'params': {'bootstrap': True, 'n_estimators': 300, 'oob_score': True, 'min_samples_leaf': 3}, 'folds': 5, 'crossValidation': False, 'evalPlots': False}}, 'isStreamJob': False, 'jobType': 'CSV', 'queryId': None, 'isSingle': False, 'isJobStopped': None, 'automateJobId': None, 'output': None}}\n"
     ]
    }
   ],
   "source": [
    "train_response_m1 = client.train(task, algorithm_1, train_data, label,features,\"House Price Prediction Model M1\", library_1, train_percentage_1, params=randomforest_parameters)\n",
    "print(train_response_m1)"
   ]
  },
  {
   "cell_type": "markdown",
   "metadata": {},
   "source": [
    "###  Model 2\n",
    "    \n",
    "Building model with default parameters and cross validation"
   ]
  },
  {
   "cell_type": "code",
   "execution_count": 20,
   "metadata": {},
   "outputs": [
    {
     "name": "stdout",
     "output_type": "stream",
     "text": [
      "{'code': 0, 'data': {'jobId': 174474, 'appId': 1608720742960, 'projectId': 0, 'name': 'scikit_regression_train', 'library': 'scikit', 'service': 'Regression', 'task': 'TRAIN', 'state': 'RUN', 'startTime': '2021-07-23T09:04:26.442+00:00', 'endTime': None, 'request': {'library': 'scikit', 'jobType': 'CSV', 'queryId': None, 'modelId': None, 'isSingle': False, 'singleRow': None, 'config': {'name': 'House Price Prediction Model M1', 'algorithm': 'RandomForest', 'datasetUrl': '/YOUR_S3_BUCKET/private/687361782950394294/Train_Data/1627031054174_boston_train_processed.csv', 'label': 'MEDV', 'trainPercentage': 80, 'features': ['LSTAT', 'INDUS', 'NOX', 'PTRATIO', 'RM', 'TAX', 'DIS', 'AGE'], 'params': {}, 'folds': 10, 'crossValidation': True, 'evalPlots': False}}, 'isStreamJob': False, 'jobType': 'CSV', 'queryId': None, 'isSingle': False, 'isJobStopped': None, 'automateJobId': None, 'output': None}}\n"
     ]
    }
   ],
   "source": [
    "# Train-test split percentage\n",
    "train_percentage_2 = 80\n",
    "\n",
    "# cross validation\n",
    "folds = 10\n",
    "cross_validation = True\n",
    "\n",
    "train_response_m2 = client.train(task, algorithm_1, train_data, label,features,\"House Price Prediction Model M1\", library_1, train_percentage_2, folds, cross_validation)\n",
    "print(train_response_m2)"
   ]
  },
  {
   "cell_type": "markdown",
   "metadata": {},
   "source": [
    "### Model 3"
   ]
  },
  {
   "cell_type": "code",
   "execution_count": 21,
   "metadata": {},
   "outputs": [
    {
     "name": "stdout",
     "output_type": "stream",
     "text": [
      "{'code': 0, 'data': {'jobId': 174475, 'appId': 1608720742960, 'projectId': 0, 'name': 'h2o_regression_train', 'library': 'h2o', 'service': 'Regression', 'task': 'TRAIN', 'state': 'RUN', 'startTime': '2021-07-23T09:04:27.153+00:00', 'endTime': None, 'request': {'library': 'h2o', 'jobType': 'CSV', 'queryId': None, 'modelId': None, 'isSingle': False, 'singleRow': None, 'config': {'name': 'House Price Prediction Model M2', 'algorithm': 'LinearRegression', 'datasetUrl': '/YOUR_S3_BUCKET/private/687361782950394294/Train_Data/1627031054174_boston_train_processed.csv', 'label': 'MEDV', 'trainPercentage': 70, 'features': ['LSTAT', 'INDUS', 'NOX', 'PTRATIO', 'RM', 'TAX', 'DIS', 'AGE'], 'params': {}, 'folds': 5, 'crossValidation': True, 'evalPlots': False}}, 'isStreamJob': False, 'jobType': 'CSV', 'queryId': None, 'isSingle': False, 'isJobStopped': None, 'automateJobId': None, 'output': None}}\n"
     ]
    }
   ],
   "source": [
    "algorithm_3 = \"LinearRegression\"\n",
    "library_3 = \"h2o\"\n",
    "\n",
    "#\n",
    "train_percentage_3 = 70\n",
    "\n",
    "# cross validation\n",
    "folds = 5\n",
    "cross_validation = True\n",
    "\n",
    "train_response_m3 = client.train(task, algorithm_3, train_data, label,features,\"House Price Prediction Model M2\", library_3, train_percentage_3, folds=folds, cross_validation=cross_validation)\n",
    "print(train_response_m3)"
   ]
  },
  {
   "cell_type": "markdown",
   "metadata": {},
   "source": [
    "#### Checking training status</font>\n",
    "\n",
    "As training a model might take lot of time depending on size of dataset, we can check current status of model training using below functions"
   ]
  },
  {
   "cell_type": "code",
   "execution_count": 22,
   "metadata": {},
   "outputs": [
    {
     "name": "stdout",
     "output_type": "stream",
     "text": [
      "{'jobId': 174473, 'appId': 1608720742960, 'projectId': 0, 'name': 'scikit_regression_train', 'library': 'scikit', 'service': 'Regression', 'task': 'TRAIN', 'state': 'FINISH', 'startTime': '2021-07-23T09:04:25.471+00:00', 'endTime': None, 'isStreamJob': False, 'jobType': 'CSV', 'queryId': None, 'isSingle': False, 'isJobStopped': None, 'automateJobId': None, 'output': None}\n",
      "{\n",
      "  \"jobId\": 174473,\n",
      "  \"appId\": 1608720742960,\n",
      "  \"projectId\": 0,\n",
      "  \"name\": \"scikit_regression_train\",\n",
      "  \"library\": \"scikit\",\n",
      "  \"service\": \"Regression\",\n",
      "  \"task\": \"TRAIN\",\n",
      "  \"state\": \"FINISH\",\n",
      "  \"startTime\": \"2021-07-23T09:04:25.471+00:00\",\n",
      "  \"endTime\": null,\n",
      "  \"isStreamJob\": false,\n",
      "  \"jobType\": \"CSV\",\n",
      "  \"queryId\": null,\n",
      "  \"isSingle\": false,\n",
      "  \"isJobStopped\": null,\n",
      "  \"automateJobId\": null,\n",
      "  \"output\": null\n",
      "}\n"
     ]
    }
   ],
   "source": [
    "import json\n",
    "train_job_status_response_m1 = client.job_status(train_response_m1['data']['jobId'])\n",
    "print(train_job_status_response_m1)\n",
    "print(json.dumps(train_job_status_response_m1, indent=2))"
   ]
  },
  {
   "cell_type": "code",
   "execution_count": 23,
   "metadata": {},
   "outputs": [
    {
     "name": "stdout",
     "output_type": "stream",
     "text": [
      "{'jobId': 174474, 'appId': 1608720742960, 'projectId': 0, 'name': 'scikit_regression_train', 'library': 'scikit', 'service': 'Regression', 'task': 'TRAIN', 'state': 'FINISH', 'startTime': '2021-07-23T09:04:26.442+00:00', 'endTime': None, 'isStreamJob': False, 'jobType': 'CSV', 'queryId': None, 'isSingle': False, 'isJobStopped': None, 'automateJobId': None, 'output': None}\n",
      "{\n",
      "  \"jobId\": 174474,\n",
      "  \"appId\": 1608720742960,\n",
      "  \"projectId\": 0,\n",
      "  \"name\": \"scikit_regression_train\",\n",
      "  \"library\": \"scikit\",\n",
      "  \"service\": \"Regression\",\n",
      "  \"task\": \"TRAIN\",\n",
      "  \"state\": \"FINISH\",\n",
      "  \"startTime\": \"2021-07-23T09:04:26.442+00:00\",\n",
      "  \"endTime\": null,\n",
      "  \"isStreamJob\": false,\n",
      "  \"jobType\": \"CSV\",\n",
      "  \"queryId\": null,\n",
      "  \"isSingle\": false,\n",
      "  \"isJobStopped\": null,\n",
      "  \"automateJobId\": null,\n",
      "  \"output\": null\n",
      "}\n"
     ]
    }
   ],
   "source": [
    "train_job_status_response_m2 = client.job_status(train_response_m2['data']['jobId'])\n",
    "print(train_job_status_response_m2)\n",
    "print(json.dumps(train_job_status_response_m2, indent=2))"
   ]
  },
  {
   "cell_type": "code",
   "execution_count": 24,
   "metadata": {},
   "outputs": [
    {
     "name": "stdout",
     "output_type": "stream",
     "text": [
      "{'jobId': 174475, 'appId': 1608720742960, 'projectId': 0, 'name': 'h2o_regression_train', 'library': 'h2o', 'service': 'Regression', 'task': 'TRAIN', 'state': 'FINISH', 'startTime': '2021-07-23T09:04:27.153+00:00', 'endTime': None, 'isStreamJob': False, 'jobType': 'CSV', 'queryId': None, 'isSingle': False, 'isJobStopped': None, 'automateJobId': None, 'output': None}\n",
      "{\n",
      "  \"jobId\": 174475,\n",
      "  \"appId\": 1608720742960,\n",
      "  \"projectId\": 0,\n",
      "  \"name\": \"h2o_regression_train\",\n",
      "  \"library\": \"h2o\",\n",
      "  \"service\": \"Regression\",\n",
      "  \"task\": \"TRAIN\",\n",
      "  \"state\": \"FINISH\",\n",
      "  \"startTime\": \"2021-07-23T09:04:27.153+00:00\",\n",
      "  \"endTime\": null,\n",
      "  \"isStreamJob\": false,\n",
      "  \"jobType\": \"CSV\",\n",
      "  \"queryId\": null,\n",
      "  \"isSingle\": false,\n",
      "  \"isJobStopped\": null,\n",
      "  \"automateJobId\": null,\n",
      "  \"output\": null\n",
      "}\n"
     ]
    }
   ],
   "source": [
    "train_job_status_response_m3 = client.job_status(train_response_m3['data']['jobId'])\n",
    "print(train_job_status_response_m3)\n",
    "print(json.dumps(train_job_status_response_m3, indent=2))"
   ]
  },
  {
   "cell_type": "markdown",
   "metadata": {},
   "source": [
    "<font color=red>**Note :**</font> Proceed further only after state is **'FINISH'**\n",
    "    \n",
    "####  Model Training Job Output </font>\n",
    "\n",
    "##### **Model Evaluation in DLTK**\n",
    "\n",
    "<font color=black> During the training process, based on the train percentage input, the data is divided into train and test sets. Train set is used for model building and test set is used to evaluate the model. The metrics displayed in the Job Output function consists metrics of both train and test sets.\n",
    "\n",
    "Once model training job is finished, we can look into the model evaluation metrics such as \n",
    "- errorRate\n",
    "- R2\n",
    "\n",
    "& also get **modelUrl**, which will be required for prediction step"
   ]
  },
  {
   "cell_type": "code",
   "execution_count": 25,
   "metadata": {},
   "outputs": [
    {
     "data": {
      "text/plain": [
       "{'id': 145072,\n",
       " 'jobId': 174473,\n",
       " 'output': {'eval': {'R2': 0.7972167440035189,\n",
       "   'MAE': 2.134227607099585,\n",
       "   'MSE': 8.14029369166027,\n",
       "   'errorRate': 2.8531199925100013,\n",
       "   'residuals': [2.6004778684278733,\n",
       "    -0.5442833092832942,\n",
       "    -0.7984602240351997,\n",
       "    0.23155721685719755,\n",
       "    -0.6674353267103186,\n",
       "    -1.031985236985216,\n",
       "    1.8580669071669185,\n",
       "    1.2673871535871548,\n",
       "    -2.2655887926887797,\n",
       "    4.097007989232985,\n",
       "    -0.5239260582010488,\n",
       "    -4.0251133357383075,\n",
       "    -0.5989470177970269,\n",
       "    1.3073468207718228,\n",
       "    3.322993931068922,\n",
       "    2.89779327801827,\n",
       "    -3.668103379028393,\n",
       "    -3.133488684463689,\n",
       "    -3.5741393171643026,\n",
       "    -0.6781902356902343,\n",
       "    3.219906589706582,\n",
       "    0.05958810171311768,\n",
       "    2.0978064028564205,\n",
       "    -0.4810165464165479,\n",
       "    -1.4217464831464817,\n",
       "    -0.09062694805195548,\n",
       "    -0.16987970732970936,\n",
       "    -4.354765254190248,\n",
       "    -1.461510551485535,\n",
       "    4.5025404327154135,\n",
       "    3.547339045214059,\n",
       "    -2.0668915121915106,\n",
       "    -1.2403972582972589,\n",
       "    2.0673758241758016,\n",
       "    -0.4341191798941839,\n",
       "    0.12947671957671858,\n",
       "    -0.10344166666667931,\n",
       "    4.962094444444444,\n",
       "    -3.6828293891293917,\n",
       "    1.0325096079845935,\n",
       "    -2.226886002886001,\n",
       "    0.6252063011063065,\n",
       "    -2.214975939800939,\n",
       "    -2.0071018111518057,\n",
       "    0.7098389795389579,\n",
       "    0.08275924168422222,\n",
       "    8.59032900432899,\n",
       "    0.45080366670365635,\n",
       "    -0.90769426406926,\n",
       "    1.5161320179820308,\n",
       "    -0.46180852573354514,\n",
       "    0.6544975293225441,\n",
       "    0.37375911495912817,\n",
       "    -0.7318718327968377,\n",
       "    -2.765492424242428,\n",
       "    -2.5731586820586827,\n",
       "    -2.0865347041847038,\n",
       "    -0.46612740592739854,\n",
       "    -0.8466596560846575,\n",
       "    -4.131946789321786,\n",
       "    0.1468632876382756,\n",
       "    -1.6398755244755137,\n",
       "    -2.6160517676767547,\n",
       "    -1.8358703222703117,\n",
       "    -3.143803058053063,\n",
       "    2.4385252294002306,\n",
       "    0.010658185333193515,\n",
       "    0.31094181096681694,\n",
       "    -0.8728344276094298,\n",
       "    1.6207474673474813,\n",
       "    1.6399822150072048,\n",
       "    -3.4542523467273547,\n",
       "    -5.812252058127065,\n",
       "    -1.609650312650306,\n",
       "    -12.038658460983443,\n",
       "    3.759250611425614,\n",
       "    -6.26501323953822,\n",
       "    0.17670739538238678,\n",
       "    -2.3934939514189555,\n",
       "    1.3107962093462007,\n",
       "    5.7551193843193715,\n",
       "    -3.8355174723424597,\n",
       "    -3.622460024235032,\n",
       "    -1.2773649785399819,\n",
       "    -0.08906763421763841,\n",
       "    0.2522464572464571,\n",
       "    1.3333151274651023,\n",
       "    -2.0498831039331122,\n",
       "    0.7681213157213271,\n",
       "    3.6054089151589075,\n",
       "    -4.594426106301103,\n",
       "    1.4939131054131032,\n",
       "    -2.850724572649556,\n",
       "    1.7419487660487647,\n",
       "    -2.2896325896325784,\n",
       "    -0.5493809884559884,\n",
       "    2.0215835100085187,\n",
       "    -0.49339217171717564,\n",
       "    -2.6593696007695975,\n",
       "    -0.12114694564694872,\n",
       "    1.7360142792392814,\n",
       "    -5.697833044733036,\n",
       "    3.2852832611832596,\n",
       "    -0.8102491462241623,\n",
       "    3.5953088208088175,\n",
       "    -1.9348573778073792,\n",
       "    -0.4503756253006159,\n",
       "    -1.3480175925925888,\n",
       "    -0.5618762015761938,\n",
       "    -1.3028720057720093,\n",
       "    0.054886225811241474,\n",
       "    -2.013977394827389,\n",
       "    5.560048593073606,\n",
       "    -7.060862878787866,\n",
       "    1.435394600769607,\n",
       "    -0.8640240259740253,\n",
       "    -2.2941510942760726,\n",
       "    -5.820492977392975,\n",
       "    1.4860804417804445,\n",
       "    0.43151360861361354,\n",
       "    -0.054765404040406196,\n",
       "    -3.9396420514670467,\n",
       "    3.3325764550264445,\n",
       "    0.25536135161134865,\n",
       "    1.2585070179820228,\n",
       "    -0.719390433640438,\n",
       "    -2.2914284243534375,\n",
       "    -3.300511231361215,\n",
       "    -2.3354211908461906,\n",
       "    1.9633155446405528,\n",
       "    3.3158234533984476,\n",
       "    1.162778270803262,\n",
       "    -2.98748051948051,\n",
       "    1.0055148814148787,\n",
       "    -4.658501515151506,\n",
       "    4.258625805675816,\n",
       "    1.0178982748732714,\n",
       "    -1.104378116328114,\n",
       "    2.7130184583934565,\n",
       "    0.10041974321973512,\n",
       "    -3.96972491582493,\n",
       "    -0.3504981601731778,\n",
       "    1.668014681614654,\n",
       "    -4.578230772005783,\n",
       "    1.8197872988122938,\n",
       "    7.639062284012294,\n",
       "    0.24772158489655283,\n",
       "    -1.830941541791546,\n",
       "    1.2344665852665813],\n",
       "   'pearsonCorrelation': {'RM': 0.43260947881035633,\n",
       "    'AGE': -0.608596401417354,\n",
       "    'DIS': 0.5270967847275569,\n",
       "    'NOX': -0.5845311994164061,\n",
       "    'TAX': -0.6138374974938431,\n",
       "    'INDUS': -0.6322821471415186,\n",
       "    'LSTAT': -0.7905307707586849,\n",
       "    'PTRATIO': -0.42830772438976084}},\n",
       "  'modelUrl': '/YOUR_S3_BUCKET/private/687361782950394294/model/1627031066712_modelfile',\n",
       "  'evalTrain': {'R2': 0.940239818657774,\n",
       "   'MAE': 1.0944905075488414,\n",
       "   'MSE': 2.557167358261536,\n",
       "   'errorRate': 1.599114554452412,\n",
       "   'pearsonCorrelation': {'RM': 0.5886229889107644,\n",
       "    'AGE': -0.5087813276206588,\n",
       "    'DIS': 0.3814949232169291,\n",
       "    'NOX': -0.5549250473032056,\n",
       "    'TAX': -0.5640039674105662,\n",
       "    'INDUS': -0.5919771218545393,\n",
       "    'LSTAT': -0.7748476816426748,\n",
       "    'PTRATIO': -0.5570954862987423}}}}"
      ]
     },
     "execution_count": 25,
     "metadata": {},
     "output_type": "execute_result"
    }
   ],
   "source": [
    "# Model 1 Evaluation Metrics\n",
    "train_job_output_response_m1 = client.job_output(train_response_m1['data']['jobId'])\n",
    "train_job_output_response_m1"
   ]
  },
  {
   "cell_type": "code",
   "execution_count": 26,
   "metadata": {},
   "outputs": [
    {
     "data": {
      "text/plain": [
       "{'id': 145074,\n",
       " 'jobId': 174474,\n",
       " 'output': {'eval': {'r2': {'std': 0.048324029652919834,\n",
       "    'average': 0.8106385758354924},\n",
       "   'explained_variance': {'std': 0.047461551580336006,\n",
       "    'average': 0.8171325946833363},\n",
       "   'mean_squared_error': {'std': 1.7504010710072582,\n",
       "    'average': 7.427897954978664},\n",
       "   'mean_absolute_error': {'std': 0.22369484425159267,\n",
       "    'average': 1.997614438122333},\n",
       "   'mean_squared_log_error': {'std': 0.006321581275756849,\n",
       "    'average': 0.019382576540085943}},\n",
       "  'modelUrl': '/YOUR_S3_BUCKET/private/687361782950394294/model/1627031071044_modelfile',\n",
       "  'evalTrain': {'r2': {'std': 0.0016228488257791112,\n",
       "    'average': 0.9757396291305392},\n",
       "   'explained_variance': {'std': 0.0016167834833102585,\n",
       "    'average': 0.9757477930856965},\n",
       "   'mean_squared_error': {'std': 0.05320523776856021,\n",
       "    'average': 1.0120551060042096},\n",
       "   'pearsonCorrelation': {'RM': 0.5249690132766803,\n",
       "    'AGE': -0.5493631791851413,\n",
       "    'DIS': 0.43478427160447214,\n",
       "    'NOX': -0.5671191430758109,\n",
       "    'TAX': -0.5840169438374804,\n",
       "    'INDUS': -0.6077690555969028,\n",
       "    'LSTAT': -0.781078183518635,\n",
       "    'PTRATIO': -0.5081654222854678},\n",
       "   'mean_absolute_error': {'std': 0.012207985882605191,\n",
       "    'average': 0.7310480120839402},\n",
       "   'mean_squared_log_error': {'std': 0.00013601002822420815,\n",
       "    'average': 0.00277814144221676}}}}"
      ]
     },
     "execution_count": 26,
     "metadata": {},
     "output_type": "execute_result"
    }
   ],
   "source": [
    "# Model 2 Evaluation Metrics\n",
    "train_job_output_response_m2 = client.job_output(train_response_m2['data']['jobId'])\n",
    "train_job_output_response_m2"
   ]
  },
  {
   "cell_type": "code",
   "execution_count": 27,
   "metadata": {},
   "outputs": [
    {
     "data": {
      "text/plain": [
       "{'id': 145073,\n",
       " 'jobId': 174475,\n",
       " 'output': {'eval': None,\n",
       "  'modelUrl': '/YOUR_S3_BUCKET/private/687361782950394294/model/1627031068532_GLM_model_python_1627030444190_4',\n",
       "  'evalTrain': {'r2': {'std': '0.039049223', 'average': '0.70681757'},\n",
       "   'mae': {'std': '0.31110284', 'average': '2.6736317'},\n",
       "   'mse': {'std': '3.2942836', 'average': '12.039716'},\n",
       "   'rmse': {'std': '0.44845363', 'average': '3.4465675'},\n",
       "   'rmsle': {'std': '0.037884597', 'average': '0.18894435'},\n",
       "   'null_deviance': {'std': '730.2986', 'average': '3134.0696'},\n",
       "   'residual_deviance': {'std': '320.04456', 'average': '906.3374'},\n",
       "   'pearsonCorrelation': {'RM': 0.5249690132766803,\n",
       "    'AGE': -0.5493631791851413,\n",
       "    'DIS': 0.43478427160447214,\n",
       "    'NOX': -0.5671191430758109,\n",
       "    'TAX': -0.5840169438374804,\n",
       "    'INDUS': -0.6077690555969028,\n",
       "    'LSTAT': -0.781078183518635,\n",
       "    'PTRATIO': -0.5081654222854678},\n",
       "   'mean_residual_deviance': {'std': '3.2942836', 'average': '12.039716'}}}}"
      ]
     },
     "execution_count": 27,
     "metadata": {},
     "output_type": "execute_result"
    }
   ],
   "source": [
    "# Model 3 Evaluation Metrics\n",
    "train_job_output_response_m3 = client.job_output(train_response_m3['data']['jobId'])\n",
    "train_job_output_response_m3"
   ]
  },
  {
   "cell_type": "markdown",
   "metadata": {},
   "source": [
    "##### Evaluation Metric Plots\n",
    "\n",
    "\n",
    "Plot the Output from model metrics"
   ]
  },
  {
   "cell_type": "code",
   "execution_count": 28,
   "metadata": {},
   "outputs": [],
   "source": [
    "import dltk_ai\n",
    "from dltk_ai import visualization"
   ]
  },
  {
   "cell_type": "markdown",
   "metadata": {},
   "source": [
    "##### Model 1"
   ]
  },
  {
   "cell_type": "code",
   "execution_count": 29,
   "metadata": {},
   "outputs": [
    {
     "data": {
      "image/png": "[encoded data removed]",
      "text/plain": [
       "<Figure size 1440x1440 with 1 Axes>"
      ]
     },
     "metadata": {
      "needs_background": "light"
     },
     "output_type": "display_data"
    }
   ],
   "source": [
    "visualization.model_evaluation_plots(task=\"regression\", data=train_job_output_response_m1, plots=\"residual_plot\")"
   ]
  },
  {
   "cell_type": "markdown",
   "metadata": {},
   "source": [
    "We have used the same algorithm for model 1 and model 2. The difference is in the hyperparameters. We can see the R2 of model 1 is 0.80 and average R2 of model 2 after cross validation is 0.82. which means model 2 is able to explain the variance better than model 1 and also model 3 (R2 avg = 0.71).\n",
    "\n",
    "We will be using model 2 for predictions"
   ]
  },
  {
   "cell_type": "markdown",
   "metadata": {},
   "source": [
    "#### Model Prediction"
   ]
  },
  {
   "cell_type": "code",
   "execution_count": 30,
   "metadata": {},
   "outputs": [
    {
     "data": {
      "text/plain": [
       "'/YOUR_S3_BUCKET/private/687361782950394294/model/1627031071044_modelfile'"
      ]
     },
     "execution_count": 30,
     "metadata": {},
     "output_type": "execute_result"
    }
   ],
   "source": [
    "# load the model built\n",
    "model = train_job_output_response_m2['output']['modelUrl']\n",
    "model"
   ]
  },
  {
   "cell_type": "code",
   "execution_count": 31,
   "metadata": {},
   "outputs": [
    {
     "data": {
      "text/plain": [
       "{'code': 0,\n",
       " 'data': {'jobId': 174476,\n",
       "  'appId': 1608720742960,\n",
       "  'projectId': 0,\n",
       "  'name': 'scikit_regression_predict',\n",
       "  'library': 'scikit',\n",
       "  'service': 'Regression',\n",
       "  'task': 'PREDICT',\n",
       "  'state': 'RUN',\n",
       "  'startTime': '2021-07-23T09:05:01.854+00:00',\n",
       "  'endTime': None,\n",
       "  'request': {'library': 'scikit',\n",
       "   'jobType': 'CSV',\n",
       "   'queryId': None,\n",
       "   'modelId': None,\n",
       "   'isSingle': False,\n",
       "   'singleRow': None,\n",
       "   'config': {'datasetUrl': '/YOUR_S3_BUCKET/private/687361782950394294/Test_Data/1627031055237_boston_prediction_processed.csv',\n",
       "    'modelUrl': '/YOUR_S3_BUCKET/private/687361782950394294/model/1627031071044_modelfile',\n",
       "    'params': {},\n",
       "    'features': ['LSTAT',\n",
       "     'INDUS',\n",
       "     'NOX',\n",
       "     'PTRATIO',\n",
       "     'RM',\n",
       "     'TAX',\n",
       "     'DIS',\n",
       "     'AGE']}},\n",
       "  'isStreamJob': False,\n",
       "  'jobType': 'CSV',\n",
       "  'queryId': None,\n",
       "  'isSingle': False,\n",
       "  'isJobStopped': None,\n",
       "  'automateJobId': None,\n",
       "  'output': None}}"
      ]
     },
     "execution_count": 31,
     "metadata": {},
     "output_type": "execute_result"
    }
   ],
   "source": [
    "# Predict using created ML Model\n",
    "predict_response = client.predict(task, prediction_data, model,features = ['LSTAT', 'INDUS', 'NOX', 'PTRATIO', 'RM', 'TAX', 'DIS', 'AGE'],lib=library_1)\n",
    "predict_response"
   ]
  },
  {
   "cell_type": "code",
   "execution_count": 32,
   "metadata": {},
   "outputs": [
    {
     "data": {
      "text/plain": [
       "{'jobId': 174476,\n",
       " 'appId': 1608720742960,\n",
       " 'projectId': 0,\n",
       " 'name': 'scikit_regression_predict',\n",
       " 'library': 'scikit',\n",
       " 'service': 'Regression',\n",
       " 'task': 'PREDICT',\n",
       " 'state': 'FINISH',\n",
       " 'startTime': '2021-07-23T09:05:01.854+00:00',\n",
       " 'endTime': None,\n",
       " 'isStreamJob': False,\n",
       " 'jobType': 'CSV',\n",
       " 'queryId': None,\n",
       " 'isSingle': False,\n",
       " 'isJobStopped': None,\n",
       " 'automateJobId': None,\n",
       " 'output': None}"
      ]
     },
     "execution_count": 32,
     "metadata": {},
     "output_type": "execute_result"
    }
   ],
   "source": [
    "# check job status of prediction\n",
    "predict_job_status_response = client.job_status(predict_response['data']['jobId'])\n",
    "predict_job_status_response"
   ]
  },
  {
   "cell_type": "code",
   "execution_count": 33,
   "metadata": {},
   "outputs": [
    {
     "data": {
      "text/plain": [
       "{'id': 145075,\n",
       " 'jobId': 174476,\n",
       " 'output': {'predFileUrl': '/YOUR_S3_BUCKET/private/687361782950394294/prediction/1627031102752_prediction.csv'}}"
      ]
     },
     "execution_count": 33,
     "metadata": {},
     "output_type": "execute_result"
    }
   ],
   "source": [
    "# use job output function to get the predictions file\n",
    "predict_job_output_response = client.job_output(predict_response['data']['jobId'])\n",
    "predict_job_output_response"
   ]
  },
  {
   "cell_type": "markdown",
   "metadata": {},
   "source": [
    "#### Download Predictions"
   ]
  },
  {
   "cell_type": "code",
   "execution_count": 34,
   "metadata": {},
   "outputs": [],
   "source": [
    "# download the predictions file using download function\n",
    "pred_file = predict_job_output_response['output']['predFileUrl']\n",
    "response = client.download(pred_file)"
   ]
  },
  {
   "cell_type": "markdown",
   "metadata": {},
   "source": [
    "#### Reference"
   ]
  },
  {
   "cell_type": "markdown",
   "metadata": {},
   "source": [
    "For more detail on using ML Regression please refer [DLTK ML Regression Documentation](https://docs.dltk.ai/machine_learning/regression.html)"
   ]
  },
  {
   "cell_type": "markdown",
   "metadata": {},
   "source": [
    ":\n",
    "<center><b>For More Details about DLTK</b></center>"
   ]
  },
  {
   "cell_type": "markdown",
   "metadata": {},
   "source": [
    "|[<img src=\"https://pbs.twimg.com/profile_images/909757546063323137/-RIWgodF.jpg\" width=50 title=\"Pypi Logo\"/>](https://pypi.org/project/qubitai-dltk/) |[<img src=\"https://cdn.iconscout.com/icon/free/png-512/documentation-1502741-1272951.png\" width=50 title=\"Documentation\"/>](https://docs.dltk.ai) | [<img src=\"https://cdn4.iconfinder.com/data/icons/iconsimple-logotypes/512/github-512.png\" width=50 title=\"Documentation\"/>](https://docs.dltk.ai)| \n",
    "|:-------------:|:-------:|:--------:|\n",
    "|pypi|Documentation|Github|"
   ]
  }
 ],
 "metadata": {
  "hide_input": false,
  "kernelspec": {
   "display_name": "sdk_105",
   "language": "python",
   "name": "sdk_105"
  },
  "language_info": {
   "codemirror_mode": {
    "name": "ipython",
    "version": 3
   },
   "file_extension": ".py",
   "mimetype": "text/x-python",
   "name": "python",
   "nbconvert_exporter": "python",
   "pygments_lexer": "ipython3",
   "version": "3.8.10"
  }
 },
 "nbformat": 4,
 "nbformat_minor": 4
}
