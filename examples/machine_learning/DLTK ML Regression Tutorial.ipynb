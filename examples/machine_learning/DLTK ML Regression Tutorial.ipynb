{
 "cells": [
  {
   "cell_type": "markdown",
   "metadata": {},
   "source": [
    "### DLTK ML Regression Tutorial"
   ]
  },
  {
   "cell_type": "code",
   "execution_count": 1,
   "metadata": {},
   "outputs": [],
   "source": [
    "# If you are running this notebook on GOOGLE COLAB, uncomment below code & run this cell\n",
    "\n",
    "# !git clone https://github.com/dltk-ai/qubitai-dltk.git\n",
    "# %cd qubitai-dltk/examples/machine_learning/\n",
    "# !pip install qubitai-dltk"
   ]
  },
  {
   "cell_type": "code",
   "execution_count": 1,
   "metadata": {},
   "outputs": [],
   "source": [
    "# if using source code\n",
    "\n",
    "import os\n",
    "os.chdir(\"../../\")"
   ]
  },
  {
   "cell_type": "markdown",
   "metadata": {},
   "source": [
    "#### <font color=black> Importing Packages"
   ]
  },
  {
   "cell_type": "code",
   "execution_count": 2,
   "metadata": {},
   "outputs": [
    {
     "name": "stderr",
     "output_type": "stream",
     "text": [
      "New version of dltk_ai (1.0.4) available, you are still using older (1.0.3) version of the dltk_ai, Please update using \"pip install qubitai-dltk==1.0.4\"\n"
     ]
    }
   ],
   "source": [
    "import json\n",
    "\n",
    "import dltk_ai\n",
    "from dltk_ai import data_preprocessing\n",
    "from dltk_ai import helper\n",
    "from dltk_ai.dataset_types import Dataset\n",
    "from getpass import getpass"
   ]
  },
  {
   "cell_type": "markdown",
   "metadata": {},
   "source": [
    "#### Data"
   ]
  },
  {
   "cell_type": "markdown",
   "metadata": {},
   "source": [
    "The Boston Housing Dataset\n",
    "\n",
    "The Boston Housing Dataset is a derived from information collected by the U.S. Census Service concerning housing in the area of Boston MA. The following describes the dataset columns:\n",
    "\n",
    "The description of these variables:\n",
    "\n",
    "**CRIM**: Per capita crime rate by town\n",
    "\n",
    "**ZN**: Proportion of residential land zoned for lots over 25,000 sq. ft\n",
    "\n",
    "**INDUS**: Proportion of non-retail business acres per town\n",
    "\n",
    "**CHAS**: Charles River dummy variable (= 1 if tract bounds river; 0 otherwise)\n",
    "\n",
    "**NOX**: Nitric oxide concentration (parts per 10 million)\n",
    "\n",
    "**RM**: Average number of rooms per dwelling\n",
    "\n",
    "**AGE**: Proportion of owner-occupied units built prior to 1940\n",
    "\n",
    "**DIS**: Weighted distances to five Boston employment centers\n",
    "\n",
    "**RAD**: Index of accessibility to radial highways\n",
    "\n",
    "**TAX**: Full-value property tax rate per $10,000\n",
    "\n",
    "**PTRATIO**: Pupil-teacher ratio by town\n",
    "\n",
    "**B**: 1000(Bk — 0.63)², where Bk is the proportion of [people of African American descent] by town\n",
    "\n",
    "**LSTAT**: Percentage of lower status of the population\n",
    "\n",
    "**MEDV** - Median value of owner-occupied homes in $1000's    \n",
    "    "
   ]
  },
  {
   "cell_type": "code",
   "execution_count": 3,
   "metadata": {},
   "outputs": [
    {
     "data": {
      "text/html": [
       "<div>\n",
       "<style scoped>\n",
       "    .dataframe tbody tr th:only-of-type {\n",
       "        vertical-align: middle;\n",
       "    }\n",
       "\n",
       "    .dataframe tbody tr th {\n",
       "        vertical-align: top;\n",
       "    }\n",
       "\n",
       "    .dataframe thead th {\n",
       "        text-align: right;\n",
       "    }\n",
       "</style>\n",
       "<table border=\"1\" class=\"dataframe\">\n",
       "  <thead>\n",
       "    <tr style=\"text-align: right;\">\n",
       "      <th></th>\n",
       "      <th>CRIM</th>\n",
       "      <th>ZN</th>\n",
       "      <th>INDUS</th>\n",
       "      <th>CHAS</th>\n",
       "      <th>NOX</th>\n",
       "      <th>RM</th>\n",
       "      <th>AGE</th>\n",
       "      <th>DIS</th>\n",
       "      <th>RAD</th>\n",
       "      <th>TAX</th>\n",
       "      <th>PTRATIO</th>\n",
       "      <th>B</th>\n",
       "      <th>LSTAT</th>\n",
       "      <th>MEDV</th>\n",
       "    </tr>\n",
       "  </thead>\n",
       "  <tbody>\n",
       "    <tr>\n",
       "      <th>0</th>\n",
       "      <td>1.15172</td>\n",
       "      <td>0.0</td>\n",
       "      <td>8.14</td>\n",
       "      <td>0</td>\n",
       "      <td>0.538</td>\n",
       "      <td>5.701</td>\n",
       "      <td>95.0</td>\n",
       "      <td>3.7872</td>\n",
       "      <td>4</td>\n",
       "      <td>307</td>\n",
       "      <td>21.0</td>\n",
       "      <td>358.77</td>\n",
       "      <td>18.35</td>\n",
       "      <td>13.1</td>\n",
       "    </tr>\n",
       "    <tr>\n",
       "      <th>1</th>\n",
       "      <td>0.01501</td>\n",
       "      <td>90.0</td>\n",
       "      <td>1.21</td>\n",
       "      <td>1</td>\n",
       "      <td>0.401</td>\n",
       "      <td>7.923</td>\n",
       "      <td>24.8</td>\n",
       "      <td>5.8850</td>\n",
       "      <td>1</td>\n",
       "      <td>198</td>\n",
       "      <td>13.6</td>\n",
       "      <td>395.52</td>\n",
       "      <td>3.16</td>\n",
       "      <td>50.0</td>\n",
       "    </tr>\n",
       "    <tr>\n",
       "      <th>2</th>\n",
       "      <td>73.53410</td>\n",
       "      <td>0.0</td>\n",
       "      <td>18.10</td>\n",
       "      <td>0</td>\n",
       "      <td>0.679</td>\n",
       "      <td>5.957</td>\n",
       "      <td>100.0</td>\n",
       "      <td>1.8026</td>\n",
       "      <td>24</td>\n",
       "      <td>666</td>\n",
       "      <td>20.2</td>\n",
       "      <td>16.45</td>\n",
       "      <td>20.62</td>\n",
       "      <td>8.8</td>\n",
       "    </tr>\n",
       "    <tr>\n",
       "      <th>3</th>\n",
       "      <td>0.04527</td>\n",
       "      <td>0.0</td>\n",
       "      <td>11.93</td>\n",
       "      <td>0</td>\n",
       "      <td>0.573</td>\n",
       "      <td>6.120</td>\n",
       "      <td>76.7</td>\n",
       "      <td>2.2875</td>\n",
       "      <td>1</td>\n",
       "      <td>273</td>\n",
       "      <td>21.0</td>\n",
       "      <td>396.90</td>\n",
       "      <td>9.08</td>\n",
       "      <td>20.6</td>\n",
       "    </tr>\n",
       "    <tr>\n",
       "      <th>4</th>\n",
       "      <td>9.59571</td>\n",
       "      <td>0.0</td>\n",
       "      <td>18.10</td>\n",
       "      <td>0</td>\n",
       "      <td>0.693</td>\n",
       "      <td>6.404</td>\n",
       "      <td>100.0</td>\n",
       "      <td>1.6390</td>\n",
       "      <td>24</td>\n",
       "      <td>666</td>\n",
       "      <td>20.2</td>\n",
       "      <td>376.11</td>\n",
       "      <td>20.31</td>\n",
       "      <td>12.1</td>\n",
       "    </tr>\n",
       "  </tbody>\n",
       "</table>\n",
       "</div>"
      ],
      "text/plain": [
       "       CRIM    ZN  INDUS  CHAS    NOX     RM    AGE     DIS  RAD  TAX  \\\n",
       "0   1.15172   0.0   8.14     0  0.538  5.701   95.0  3.7872    4  307   \n",
       "1   0.01501  90.0   1.21     1  0.401  7.923   24.8  5.8850    1  198   \n",
       "2  73.53410   0.0  18.10     0  0.679  5.957  100.0  1.8026   24  666   \n",
       "3   0.04527   0.0  11.93     0  0.573  6.120   76.7  2.2875    1  273   \n",
       "4   9.59571   0.0  18.10     0  0.693  6.404  100.0  1.6390   24  666   \n",
       "\n",
       "   PTRATIO       B  LSTAT  MEDV  \n",
       "0     21.0  358.77  18.35  13.1  \n",
       "1     13.6  395.52   3.16  50.0  \n",
       "2     20.2   16.45  20.62   8.8  \n",
       "3     21.0  396.90   9.08  20.6  \n",
       "4     20.2  376.11  20.31  12.1  "
      ]
     },
     "execution_count": 3,
     "metadata": {},
     "output_type": "execute_result"
    }
   ],
   "source": [
    "# Read data into a dataframe\n",
    "dataset = data_preprocessing.read_data('examples/data/csv/boston_train.csv')\n",
    "dataset.head()"
   ]
  },
  {
   "cell_type": "code",
   "execution_count": 4,
   "metadata": {},
   "outputs": [
    {
     "data": {
      "text/plain": [
       "(404, 14)"
      ]
     },
     "execution_count": 4,
     "metadata": {},
     "output_type": "execute_result"
    }
   ],
   "source": [
    "#Shape of the data\n",
    "dataset.shape\n"
   ]
  },
  {
   "cell_type": "markdown",
   "metadata": {},
   "source": [
    "#### Data Profile\n"
   ]
  },
  {
   "cell_type": "code",
   "execution_count": 5,
   "metadata": {},
   "outputs": [
    {
     "data": {
      "text/html": [
       "\n",
       "        <iframe\n",
       "            width=\"100%\"\n",
       "            height=\"475\"\n",
       "            src=\"http://MSI:40001/dtale/iframe/1\"\n",
       "            frameborder=\"0\"\n",
       "            allowfullscreen\n",
       "        ></iframe>\n",
       "        "
      ],
      "text/plain": [
       "<IPython.lib.display.IFrame at 0x1aa1d312d30>"
      ]
     },
     "metadata": {},
     "output_type": "display_data"
    },
    {
     "data": {
      "text/plain": []
     },
     "execution_count": 5,
     "metadata": {},
     "output_type": "execute_result"
    }
   ],
   "source": [
    "data_preprocessing.data_profile(dataset)"
   ]
  },
  {
   "cell_type": "markdown",
   "metadata": {},
   "source": [
    "In the above output, please click on the **play button**.\n",
    "\n",
    "In the **describe** section, you will be able to see the characteristics of all the variables.\n",
    "\n",
    "* Variable ZS has 0 value for 25th & 50th Quantile\n",
    "* Variable CHAS has 0 value for 25th, 50th & 75th Percentile. \n",
    "* These columns may not be useful in predicting MEDV\n",
    "\n",
    "**Distribution of Target Variable**\n",
    "\n",
    "* We see that the values of MEDV (target variable) has few outliers.\n",
    "\n",
    "**Distribution of other variables**\n",
    "\n",
    "* Most of the predictors contain outliers.\n",
    "    \n",
    "**Correlation**\n",
    "\n",
    "In the **correlations** section, from the matrix,\n",
    "\n",
    "    * We see TAX and RAD are highly correlated features. The columns LSTAT, INDUS, RM, TAX, NOX, PTRAIO has a correlation score above 0.5 with MEDV which is a good indication of using as predictors."
   ]
  },
  {
   "cell_type": "markdown",
   "metadata": {},
   "source": [
    "#### Data Preprocessing"
   ]
  },
  {
   "cell_type": "code",
   "execution_count": 6,
   "metadata": {},
   "outputs": [
    {
     "data": {
      "text/plain": [
       "<AxesSubplot:>"
      ]
     },
     "execution_count": 6,
     "metadata": {},
     "output_type": "execute_result"
    },
    {
     "data": {
      "image/png": "[encoded data removed]",
      "text/plain": [
       "<Figure size 432x288 with 1 Axes>"
      ]
     },
     "metadata": {
      "needs_background": "light"
     },
     "output_type": "display_data"
    }
   ],
   "source": [
    "# Distribution of target variable\n",
    "dataset[\"MEDV\"].hist()"
   ]
  },
  {
   "cell_type": "markdown",
   "metadata": {},
   "source": [
    "#### Outlier Treatment"
   ]
  },
  {
   "cell_type": "code",
   "execution_count": 7,
   "metadata": {},
   "outputs": [
    {
     "data": {
      "text/plain": [
       "<AxesSubplot:>"
      ]
     },
     "execution_count": 7,
     "metadata": {},
     "output_type": "execute_result"
    },
    {
     "data": {
      "image/png": "[encoded data removed]",
      "text/plain": [
       "<Figure size 432x288 with 1 Axes>"
      ]
     },
     "metadata": {
      "needs_background": "light"
     },
     "output_type": "display_data"
    }
   ],
   "source": [
    "# Treat outliers from the target varible\n",
    "# remove data where 'MEDV' has outliers\n",
    "data = data_preprocessing.treat_outliers(dataset,['MEDV'],remove=True)\n",
    "\n",
    "# Distribution of Target Variable after removing Outliers\n",
    "data['MEDV'].hist()"
   ]
  },
  {
   "cell_type": "markdown",
   "metadata": {},
   "source": [
    "#### Feature Scaling\n",
    "\n",
    "##### **Importance of Scaling**\n",
    "\n",
    "<font color=black> If there is a vast difference in the range of the input data, machine learning algorithms underlying assumption that higher ranging numbers have superiority of some sort. So these more significant number starts playing a more decisive role while training the model."
   ]
  },
  {
   "cell_type": "code",
   "execution_count": 8,
   "metadata": {
    "scrolled": true
   },
   "outputs": [],
   "source": [
    "## MinMax scaler from dltk\n",
    "scaler_columns = ['LSTAT', 'INDUS', 'NOX', 'PTRATIO', 'RM', 'TAX', 'DIS', 'AGE']\n",
    "\n",
    "scaled_data = data_preprocessing.feature_scaling(data, scaler_columns, method=\"minmaxscaler\")\n",
    "\n",
    "scaled_data['MEDV'] = data['MEDV']\n",
    "scaled_data.to_csv('boston_train_processed.csv',index=False)"
   ]
  },
  {
   "cell_type": "code",
   "execution_count": 9,
   "metadata": {},
   "outputs": [],
   "source": [
    "# Preprocessing Prediction Data\n",
    "pred_dataset = data_preprocessing.read_data('examples/data/csv/boston_test.csv')\n",
    "\n",
    "pred_scaler_columns = ['LSTAT', 'INDUS', 'NOX', 'PTRATIO', 'RM', 'TAX', 'DIS', 'AGE']\n",
    "\n",
    "pred_scaled_data = data_preprocessing.feature_scaling(pred_dataset, pred_scaler_columns, method=\"minmaxscaler\")\n",
    "\n",
    "\n",
    "# save preprocessed prediction dataset\n",
    "pred_scaled_data.to_csv('boston_prediction_processed.csv',index=False)"
   ]
  },
  {
   "cell_type": "markdown",
   "metadata": {},
   "source": [
    "#### Initializing DLTK Client"
   ]
  },
  {
   "cell_type": "markdown",
   "metadata": {},
   "source": [
    "Please check qubitai-dltk documentation on setting up dltk **link**\n",
    "\n",
    "> <u>Parameters Descriptions</u>\n",
    ">\n",
    "> **API key**: `If authentication is enabled`, you need to provide a valid API key\n",
    ">\n",
    "> **base_url**: url where kong/base service provided by OpenDLTK is deployed."
   ]
  },
  {
   "cell_type": "code",
   "execution_count": 10,
   "metadata": {},
   "outputs": [
    {
     "name": "stdout",
     "output_type": "stream",
     "text": [
      "Valid API key (default=None) : ········\n",
      "Endpoint for openDLTK (default=http://localhost:5000) : https://prod-kong.dltk.ai\n"
     ]
    }
   ],
   "source": [
    "api_key = getpass(\"Valid API key (default=None) : \") or None\n",
    "base_url = input(\"Endpoint for openDLTK (default=http://localhost:5000) : \") or \"http://localhost:5000\"\n",
    "\n",
    "client = dltk_ai.DltkAiClient(api_key, base_url)"
   ]
  },
  {
   "cell_type": "markdown",
   "metadata": {},
   "source": [
    "<div class=\"alert alert-block alert-info\">\n",
    "<b>See Also:</b> \n",
    "\n",
    " \n",
    "\n",
    "1. [How to generate API key](https://docs.dltk.ai/qubitai-dltk/docs/build/html/getting_started/generateAPIkey.html)\n",
    "2. [OpenDLTK deployment](http://docs.dltk.ai/qubitai-dltk/docs/build/html/getting_started/openDLTK_setup.html)\n",
    "\n",
    " \n",
    "\n",
    "</div>"
   ]
  },
  {
   "cell_type": "markdown",
   "metadata": {},
   "source": [
    "#### Uploading training data"
   ]
  },
  {
   "cell_type": "code",
   "execution_count": 15,
   "metadata": {},
   "outputs": [
    {
     "name": "stderr",
     "output_type": "stream",
     "text": [
      "C:\\Users\\vivek\\anaconda3\\envs\\dltk_pypi_104\\lib\\site-packages\\urllib3\\connectionpool.py:1013: InsecureRequestWarning:\n",
      "\n",
      "Unverified HTTPS request is being made to host 'prod-kong.dltk.ai'. Adding certificate verification is strongly advised. See: https://urllib3.readthedocs.io/en/1.26.x/advanced-usage.html#ssl-warnings\n",
      "\n"
     ]
    },
    {
     "name": "stdout",
     "output_type": "stream",
     "text": [
      "{'id': 398296683363024, 'userId': 6730090969188272963, 'username': None, 'fileUrl': '/YOUR_S3_BUCKET/private/6730090969188272963/Train_Data/1625044875010_boston_train_processed.csv', 's3Url': None, 'fileSize': 67263, 'fileName': 'boston_train_processed.csv', 'label': 'Train_Data', 'type': 'FILE', 'isPublic': False, 'cloudfrontUrl': None, 'cloudfrontUrlSigned': None, 's3Key': 'private/6730090969188272963/Train_Data/1625044875010_boston_train_processed.csv', 'metadata': {'attributes': ['CRIM', 'ZN', 'INDUS', 'CHAS', 'NOX', 'RM', 'AGE', 'DIS', 'RAD', 'TAX', 'PTRATIO', 'B', 'LSTAT', 'MEDV']}, 'fileSystem': 'GCP', 'projectId': 0, 'isDefault': False, 'createdAt': '2021-06-30T09:21:15.454+00:00', 'updatedAt': '2021-06-30T09:21:15.454+00:00'}\n"
     ]
    }
   ],
   "source": [
    "# Upload Train dataset\n",
    "train_data_store_response = client.store('boston_train_processed.csv', Dataset.TRAIN_DATA)\n",
    "print(train_data_store_response)\n",
    "train_data = train_data_store_response['fileUrl']"
   ]
  },
  {
   "cell_type": "markdown",
   "metadata": {},
   "source": [
    "#### Uploading prediction data"
   ]
  },
  {
   "cell_type": "code",
   "execution_count": 16,
   "metadata": {},
   "outputs": [
    {
     "name": "stderr",
     "output_type": "stream",
     "text": [
      "C:\\Users\\vivek\\anaconda3\\envs\\dltk_pypi_104\\lib\\site-packages\\urllib3\\connectionpool.py:1013: InsecureRequestWarning:\n",
      "\n",
      "Unverified HTTPS request is being made to host 'prod-kong.dltk.ai'. Adding certificate verification is strongly advised. See: https://urllib3.readthedocs.io/en/1.26.x/advanced-usage.html#ssl-warnings\n",
      "\n"
     ]
    },
    {
     "name": "stdout",
     "output_type": "stream",
     "text": [
      "{'id': 853971715186196, 'userId': 6730090969188272963, 'username': None, 'fileUrl': '/YOUR_S3_BUCKET/private/6730090969188272963/Test_Data/1625044876582_boston_prediction_processed.csv', 's3Url': None, 'fileSize': 17636, 'fileName': 'boston_prediction_processed.csv', 'label': 'Test_Data', 'type': 'FILE', 'isPublic': False, 'cloudfrontUrl': None, 'cloudfrontUrlSigned': None, 's3Key': 'private/6730090969188272963/Test_Data/1625044876582_boston_prediction_processed.csv', 'metadata': {'attributes': ['CRIM', 'ZN', 'INDUS', 'CHAS', 'NOX', 'RM', 'AGE', 'DIS', 'RAD', 'TAX', 'PTRATIO', 'B', 'LSTAT']}, 'fileSystem': 'GCP', 'projectId': 0, 'isDefault': False, 'createdAt': '2021-06-30T09:21:16.920+00:00', 'updatedAt': '2021-06-30T09:21:16.920+00:00'}\n"
     ]
    }
   ],
   "source": [
    "# Upload Train dataset\n",
    "prediction_data_store_response = client.store('boston_prediction_processed.csv', Dataset.TEST_DATA)\n",
    "print(prediction_data_store_response)\n",
    "prediction_data = prediction_data_store_response['fileUrl']"
   ]
  },
  {
   "cell_type": "markdown",
   "metadata": {},
   "source": [
    "#### Model Building"
   ]
  },
  {
   "cell_type": "markdown",
   "metadata": {},
   "source": [
    "Next step after uploading the dataset is to train a model using Train Dataset.\n",
    "Please check [qubitai-dltk document](https://docs.dltk.ai) for supported Libraries/framework for training a model.\n",
    "\n",
    "We will be building 2 models using RandomForest from scikit and LinearRegression from weka to check which is the best performing algorithm for this problem.\n",
    "\n",
    "**Model 1**\n",
    "\n",
    "*  **Library :** scikit\n",
    "*  **Algorithm :** RandomForest\n",
    "\n",
    "**Model 2** - Hyperparameter Tuning\n",
    "\n",
    "*  **Library :** scikit\n",
    "*  **Algorithm :** RandomForest\n",
    "\n",
    "**Model 3**\n",
    "\n",
    "*  **Library :** h2o\n",
    "*  **Algorithm :** LinearRegression\n"
   ]
  },
  {
   "cell_type": "markdown",
   "metadata": {},
   "source": [
    "#### Model 1\n"
   ]
  },
  {
   "cell_type": "code",
   "execution_count": 17,
   "metadata": {},
   "outputs": [],
   "source": [
    "# Define the task - Classification/Regression\n",
    "task = \"regression\"\n",
    "\n",
    "# Library to use (scikit, weka, h2o)\n",
    "library_1 = \"scikit\"\n",
    "algorithm_1 = \"RandomForest\"\n",
    "\n",
    "# features to be used for training\n",
    "features = ['LSTAT', 'INDUS', 'NOX', 'PTRATIO', 'RM', 'TAX', 'DIS', 'AGE']\n",
    "\n",
    "# Label to predict\n",
    "label = 'MEDV'\n",
    "\n",
    "# Train-test split percentage\n",
    "train_percentage_1 = 60"
   ]
  },
  {
   "cell_type": "markdown",
   "metadata": {},
   "source": [
    "#### Information about supported libraries & Hyperparameters"
   ]
  },
  {
   "cell_type": "markdown",
   "metadata": {},
   "source": [
    "1. To check list of supported libraries, we can use below code"
   ]
  },
  {
   "cell_type": "code",
   "execution_count": 18,
   "metadata": {},
   "outputs": [
    {
     "name": "stdout",
     "output_type": "stream",
     "text": [
      "Supported libraries for Machine Learning: ['scikit', 'weka', 'h2o']\n"
     ]
    }
   ],
   "source": [
    "dltk_ai.helper.get_ml_model_info(\"libraries\")"
   ]
  },
  {
   "cell_type": "markdown",
   "metadata": {},
   "source": [
    "2. To check list of supported algorithms under a supported library for classification task, For more details on supported algorithm check reference link"
   ]
  },
  {
   "cell_type": "code",
   "execution_count": 19,
   "metadata": {},
   "outputs": [
    {
     "name": "stdout",
     "output_type": "stream",
     "text": [
      "Supported algorithms for REGRESSION task in SCIKIT library are:\n",
      "\n",
      " algorithm : DecisionTrees,\n",
      " reference link: https://scikit-learn.org/stable/modules/generated/sklearn.tree.DecisionTreeRegressor.html\n",
      "\n",
      " algorithm : RandomForest,\n",
      " reference link: https://scikit-learn.org/stable/modules/generated/sklearn.ensemble.RandomForestRegressor.html\n",
      "\n",
      " algorithm : Bagging,\n",
      " reference link: https://scikit-learn.org/stable/modules/generated/sklearn.ensemble.BaggingRegressor.html\n",
      "\n",
      " algorithm : GradientBoostingMachines,\n",
      " reference link: https://scikit-learn.org/stable/modules/generated/sklearn.ensemble.GradientBoostingRegressor.html\n",
      "\n",
      " algorithm : ExtraTrees,\n",
      " reference link: https://scikit-learn.org/stable/modules/generated/sklearn.ensemble.ExtraTreesRegressor.html\n",
      "\n",
      " algorithm : AdaBoost,\n",
      " reference link: https://scikit-learn.org/stable/modules/generated/sklearn.ensemble.AdaBoostRegressor.html\n",
      "\n",
      " algorithm : SupportVectorMachines,\n",
      " reference link: https://scikit-learn.org/stable/modules/generated/sklearn.svm.SVR.html\n"
     ]
    }
   ],
   "source": [
    "dltk_ai.helper.get_ml_model_info(\"algorithms\", library='scikit', task='regression')"
   ]
  },
  {
   "cell_type": "code",
   "execution_count": 20,
   "metadata": {},
   "outputs": [
    {
     "name": "stdout",
     "output_type": "stream",
     "text": [
      "Supported hyperparameters for RANDOMFOREST algorithm in SCIKIT library are: \n",
      " \n",
      "Parameter                                              Default Value                 \n",
      "bootstrap                                              True                          \n",
      "ccp_alpha                                              0.0                           \n",
      "criterion                                              mse                           \n",
      "max_depth                                              None                          \n",
      "max_features                                           auto                          \n",
      "max_leaf_nodes                                         None                          \n",
      "max_samples                                            None                          \n",
      "min_impurity_decrease                                  0.0                           \n",
      "min_impurity_split                                     None                          \n",
      "min_samples_leaf                                       1                             \n",
      "min_samples_split                                      2                             \n",
      "min_weight_fraction_leaf                               0.0                           \n",
      "n_estimators                                           100                           \n",
      "n_jobs                                                 None                          \n",
      "oob_score                                              False                         \n",
      "random_state                                           None                          \n",
      "verbose                                                0                             \n",
      "warm_start                                             False                         \n",
      "\n",
      "for more info please refer https://scikit-learn.org/stable/modules/generated/sklearn.ensemble.RandomForestRegressor.html\n"
     ]
    }
   ],
   "source": [
    "dltk_ai.helper.get_ml_model_info(\"hyperparameters\", library='scikit', task='regression', algorithm='RandomForest')"
   ]
  },
  {
   "cell_type": "markdown",
   "metadata": {},
   "source": [
    "##### send request for model training"
   ]
  },
  {
   "cell_type": "code",
   "execution_count": 21,
   "metadata": {},
   "outputs": [
    {
     "name": "stdout",
     "output_type": "stream",
     "text": [
      "{'code': 0, 'data': {'jobId': 31414, 'appId': 1612784542341, 'name': 'scikit_regression_train', 'library': 'scikit', 'service': 'Regression', 'task': 'TRAIN', 'state': 'RUN', 'startTime': '2021-06-30T09:21:23.950+00:00', 'endTime': None, 'request': {'library': 'scikit', 'jobType': 'CSV', 'queryId': None, 'modelId': None, 'config': {'name': 'House Price Prediction Model M1', 'algorithm': 'RandomForest', 'datasetUrl': '/YOUR_S3_BUCKET/private/6730090969188272963/Train_Data/1625044875010_boston_train_processed.csv', 'label': 'MEDV', 'trainPercentage': 60, 'features': ['LSTAT', 'INDUS', 'NOX', 'PTRATIO', 'RM', 'TAX', 'DIS', 'AGE'], 'saveModel': 'true', 'params': {}, 'folds': 5, 'crossValidation': False, 'evalPlots': False}}, 'isStreamJob': False, 'jobType': 'CSV', 'queryId': None, 'isJobStopped': None, 'automateJobId': None}}\n"
     ]
    }
   ],
   "source": [
    "train_response_m1 = client.train(task, algorithm_1, train_data, label,features,\"House Price Prediction Model M1\", library_1, train_percentage_1)\n",
    "print(train_response_m1)"
   ]
  },
  {
   "cell_type": "markdown",
   "metadata": {},
   "source": [
    "###  Model 2\n",
    "    \n",
    "Changing the hyperparameters for algorithm used above."
   ]
  },
  {
   "cell_type": "code",
   "execution_count": 23,
   "metadata": {},
   "outputs": [
    {
     "name": "stdout",
     "output_type": "stream",
     "text": [
      "{'code': 0, 'data': {'jobId': 31415, 'appId': 1612784542341, 'name': 'scikit_regression_train', 'library': 'scikit', 'service': 'Regression', 'task': 'TRAIN', 'state': 'RUN', 'startTime': '2021-06-30T09:21:31.643+00:00', 'endTime': None, 'request': {'library': 'scikit', 'jobType': 'CSV', 'queryId': None, 'modelId': None, 'config': {'name': 'House Price Prediction Model M1', 'algorithm': 'RandomForest', 'datasetUrl': '/YOUR_S3_BUCKET/private/6730090969188272963/Train_Data/1625044875010_boston_train_processed.csv', 'label': 'MEDV', 'trainPercentage': 80, 'features': ['LSTAT', 'INDUS', 'NOX', 'PTRATIO', 'RM', 'TAX', 'DIS', 'AGE'], 'saveModel': 'true', 'params': {}, 'folds': True, 'crossValidation': False, 'evalPlots': False}}, 'isStreamJob': False, 'jobType': 'CSV', 'queryId': None, 'isJobStopped': None, 'automateJobId': None}}\n"
     ]
    }
   ],
   "source": [
    "# Train-test split percentage\n",
    "train_percentage_2 = 80\n",
    "\n",
    "# cross validation\n",
    "folds = 10\n",
    "cross_validation = True\n",
    "\n",
    "train_response_m2 = client.train(task, algorithm_1, train_data, label,features,\"House Price Prediction Model M1\", library_1, train_percentage_2, folds, cross_validation)\n",
    "print(train_response_m2)"
   ]
  },
  {
   "cell_type": "markdown",
   "metadata": {},
   "source": [
    "### Model 3"
   ]
  },
  {
   "cell_type": "code",
   "execution_count": 29,
   "metadata": {},
   "outputs": [
    {
     "name": "stdout",
     "output_type": "stream",
     "text": [
      "{'code': 0, 'data': {'jobId': 31417, 'appId': 1612784542341, 'name': 'h2o_regression_train', 'library': 'h2o', 'service': 'Regression', 'task': 'TRAIN', 'state': 'RUN', 'startTime': '2021-06-30T09:23:40.756+00:00', 'endTime': None, 'request': {'library': 'h2o', 'jobType': 'CSV', 'queryId': None, 'modelId': None, 'config': {'name': 'House Price Prediction Model M2', 'algorithm': 'LinearRegression', 'datasetUrl': '/YOUR_S3_BUCKET/private/6730090969188272963/Train_Data/1625044875010_boston_train_processed.csv', 'label': 'MEDV', 'trainPercentage': 70, 'features': ['LSTAT', 'INDUS', 'NOX', 'PTRATIO', 'RM', 'TAX', 'DIS', 'AGE'], 'saveModel': 'true', 'params': {}, 'folds': True, 'crossValidation': False, 'evalPlots': False}}, 'isStreamJob': False, 'jobType': 'CSV', 'queryId': None, 'isJobStopped': None, 'automateJobId': None}}\n"
     ]
    }
   ],
   "source": [
    "algorithm_3 = \"LinearRegression\"\n",
    "library_3 = \"h2o\"\n",
    "\n",
    "#\n",
    "train_percentage_3 = 70\n",
    "\n",
    "# cross validation\n",
    "folds = 5\n",
    "cross_validation = True\n",
    "\n",
    "train_response_m3 = client.train(task, algorithm_3, train_data, label,features,\"House Price Prediction Model M2\", library_3, train_percentage_3, folds, cross_validation)\n",
    "print(train_response_m3)"
   ]
  },
  {
   "cell_type": "markdown",
   "metadata": {},
   "source": [
    "#### Checking training status</font>\n",
    "\n",
    "As training a model might take lot of time depending on size of dataset, we can check current status of model training using below functions"
   ]
  },
  {
   "cell_type": "code",
   "execution_count": 25,
   "metadata": {},
   "outputs": [
    {
     "name": "stdout",
     "output_type": "stream",
     "text": [
      "{'jobId': 31414, 'appId': 1612784542341, 'name': 'scikit_regression_train', 'library': 'scikit', 'service': 'Regression', 'task': 'TRAIN', 'state': 'FINISH', 'startTime': '2021-06-30T09:21:23.950+00:00', 'endTime': None, 'isStreamJob': False, 'jobType': 'CSV', 'queryId': None, 'isJobStopped': None, 'automateJobId': None}\n",
      "{\n",
      "  \"jobId\": 31414,\n",
      "  \"appId\": 1612784542341,\n",
      "  \"name\": \"scikit_regression_train\",\n",
      "  \"library\": \"scikit\",\n",
      "  \"service\": \"Regression\",\n",
      "  \"task\": \"TRAIN\",\n",
      "  \"state\": \"FINISH\",\n",
      "  \"startTime\": \"2021-06-30T09:21:23.950+00:00\",\n",
      "  \"endTime\": null,\n",
      "  \"isStreamJob\": false,\n",
      "  \"jobType\": \"CSV\",\n",
      "  \"queryId\": null,\n",
      "  \"isJobStopped\": null,\n",
      "  \"automateJobId\": null\n",
      "}\n"
     ]
    }
   ],
   "source": [
    "import json\n",
    "train_job_status_response_m1 = client.job_status(train_response_m1['data']['jobId'])\n",
    "print(train_job_status_response_m1)\n",
    "print(json.dumps(train_job_status_response_m1, indent=2))"
   ]
  },
  {
   "cell_type": "code",
   "execution_count": 26,
   "metadata": {},
   "outputs": [
    {
     "name": "stdout",
     "output_type": "stream",
     "text": [
      "{'jobId': 31415, 'appId': 1612784542341, 'name': 'scikit_regression_train', 'library': 'scikit', 'service': 'Regression', 'task': 'TRAIN', 'state': 'FINISH', 'startTime': '2021-06-30T09:21:31.643+00:00', 'endTime': None, 'isStreamJob': False, 'jobType': 'CSV', 'queryId': None, 'isJobStopped': None, 'automateJobId': None}\n",
      "{\n",
      "  \"jobId\": 31415,\n",
      "  \"appId\": 1612784542341,\n",
      "  \"name\": \"scikit_regression_train\",\n",
      "  \"library\": \"scikit\",\n",
      "  \"service\": \"Regression\",\n",
      "  \"task\": \"TRAIN\",\n",
      "  \"state\": \"FINISH\",\n",
      "  \"startTime\": \"2021-06-30T09:21:31.643+00:00\",\n",
      "  \"endTime\": null,\n",
      "  \"isStreamJob\": false,\n",
      "  \"jobType\": \"CSV\",\n",
      "  \"queryId\": null,\n",
      "  \"isJobStopped\": null,\n",
      "  \"automateJobId\": null\n",
      "}\n"
     ]
    }
   ],
   "source": [
    "train_job_status_response_m2 = client.job_status(train_response_m2['data']['jobId'])\n",
    "print(train_job_status_response_m2)\n",
    "print(json.dumps(train_job_status_response_m2, indent=2))"
   ]
  },
  {
   "cell_type": "code",
   "execution_count": null,
   "metadata": {},
   "outputs": [],
   "source": [
    "train_job_status_response_m3 = client.job_status(train_response_m3['data']['jobId'])\n",
    "print(train_job_status_response_m3)\n",
    "print(json.dumps(train_job_status_response_m3, indent=2))"
   ]
  },
  {
   "cell_type": "markdown",
   "metadata": {},
   "source": [
    "<font color=red>**Note :**</font> Proceed further only after state is **'FINISH'**\n",
    "    \n",
    "####  Model Training Job Output </font>\n",
    "\n",
    "##### **Model Evaluation in DLTK**\n",
    "\n",
    "<font color=black> During the training process, based on the train percentage input, the data is divided into train and test sets. Train set is used for model building and test set is used to evaluate the model. The metrics displayed in the Job Output function consists metrics of both train and test sets.\n",
    "\n",
    "Once model training job is finished, we can look into the model evaluation metrics such as \n",
    "- errorRate\n",
    "- R2\n",
    "\n",
    "& also get **modelUrl**, which will be required for prediction step"
   ]
  },
  {
   "cell_type": "code",
   "execution_count": 28,
   "metadata": {},
   "outputs": [
    {
     "data": {
      "text/plain": [
       "{'id': 30663,\n",
       " 'jobId': 31389,\n",
       " 'output': {'eval': {'R2': 0.799257109906952,\n",
       "   'MAE': 2.1589731543624144,\n",
       "   'MSE': 8.058387630872474,\n",
       "   'errorRate': 2.8387299327115416,\n",
       "   'pearsonCorrelation': {'RM': 0.43260947881035633,\n",
       "    'AGE': -0.608596401417354,\n",
       "    'DIS': 0.5270967847275569,\n",
       "    'NOX': -0.5845311994164061,\n",
       "    'TAX': -0.6138374974938431,\n",
       "    'INDUS': -0.6322821471415186,\n",
       "    'LSTAT': -0.7905307707586849,\n",
       "    'PTRATIO': -0.42830772438976084}},\n",
       "  'modelUrl': '/YOUR_S3_BUCKET/private/6730090969188272963/model/1624957430986_modelfile',\n",
       "  'evalTrain': {'R2': 0.9766709613116957,\n",
       "   'MAE': 0.7089639639639639,\n",
       "   'MSE': 0.9982609639639686,\n",
       "   'errorRate': 0.9991301036221302,\n",
       "   'pearsonCorrelation': {'RM': 0.5886229889107644,\n",
       "    'AGE': -0.5087813276206588,\n",
       "    'DIS': 0.3814949232169291,\n",
       "    'NOX': -0.5549250473032056,\n",
       "    'TAX': -0.5640039674105662,\n",
       "    'INDUS': -0.5919771218545393,\n",
       "    'LSTAT': -0.7748476816426748,\n",
       "    'PTRATIO': -0.5570954862987423}}}}"
      ]
     },
     "execution_count": 28,
     "metadata": {},
     "output_type": "execute_result"
    }
   ],
   "source": [
    "# Model 1 Evaluation Metrics\n",
    "train_job_output_response_m1 = client.job_output(train_response_m1['data']['jobId'])\n",
    "train_job_output_response_m1"
   ]
  },
  {
   "cell_type": "code",
   "execution_count": 29,
   "metadata": {},
   "outputs": [
    {
     "data": {
      "text/plain": [
       "{'id': 30664,\n",
       " 'jobId': 31390,\n",
       " 'output': {'eval': {'r2': {'std': 0.05001326798458901,\n",
       "    'average': 0.8131223920750225},\n",
       "   'explained_variance': {'std': 0.049117640111081266,\n",
       "    'average': 0.8195597515093592},\n",
       "   'mean_squared_error': {'std': 1.8466493503219568,\n",
       "    'average': 7.3203793909672825},\n",
       "   'mean_absolute_error': {'std': 0.2006185270348778,\n",
       "    'average': 1.9795751778093884},\n",
       "   'mean_squared_log_error': {'std': 0.0063156954538334704,\n",
       "    'average': 0.019395763292010225}},\n",
       "  'modelUrl': '/YOUR_S3_BUCKET/private/6730090969188272963/model/1624957436664_modelfile',\n",
       "  'evalTrain': {'r2': {'std': 0.0012130432705496346,\n",
       "    'average': 0.9754298904455944},\n",
       "   'explained_variance': {'std': 0.001214260486518647,\n",
       "    'average': 0.9754398814024974},\n",
       "   'mean_squared_error': {'std': 0.04232166063114776,\n",
       "    'average': 1.0254098794555053},\n",
       "   'pearsonCorrelation': {'RM': 0.5249690132766803,\n",
       "    'AGE': -0.5493631791851413,\n",
       "    'DIS': 0.43478427160447214,\n",
       "    'NOX': -0.5671191430758109,\n",
       "    'TAX': -0.5840169438374804,\n",
       "    'INDUS': -0.6077690555969028,\n",
       "    'LSTAT': -0.781078183518635,\n",
       "    'PTRATIO': -0.5081654222854678},\n",
       "   'mean_absolute_error': {'std': 0.01596992216796787,\n",
       "    'average': 0.7321365215514913},\n",
       "   'mean_squared_log_error': {'std': 9.173344828617052e-05,\n",
       "    'average': 0.0028288211001214723}}}}"
      ]
     },
     "execution_count": 29,
     "metadata": {},
     "output_type": "execute_result"
    }
   ],
   "source": [
    "# Model 2 Evaluation Metrics\n",
    "train_job_output_response_m2 = client.job_output(train_response_m2['data']['jobId'])\n",
    "train_job_output_response_m2"
   ]
  },
  {
   "cell_type": "code",
   "execution_count": 30,
   "metadata": {},
   "outputs": [
    {
     "data": {
      "text/plain": [
       "{'id': 30665,\n",
       " 'jobId': 31391,\n",
       " 'output': {'eval': None,\n",
       "  'modelUrl': '/YOUR_S3_BUCKET/private/6730090969188272963/model/1624957436534_GLM_model_python_1622623083560_409',\n",
       "  'evalTrain': {'r2': {'std': '0.036065746', 'average': '0.7135466'},\n",
       "   'mae': {'std': '0.19683112', 'average': '2.6590579'},\n",
       "   'mse': {'std': '1.7218326', 'average': '11.75712'},\n",
       "   'rmse': {'std': '0.24660634', 'average': '3.421764'},\n",
       "   'rmsle': {'std': '0.020486383', 'average': '0.18662722'},\n",
       "   'null_deviance': {'std': '396.98206', 'average': '3127.8906'},\n",
       "   'residual_deviance': {'std': '141.24915', 'average': '871.50586'},\n",
       "   'pearsonCorrelation': {'RM': 0.5249690132766803,\n",
       "    'AGE': -0.5493631791851413,\n",
       "    'DIS': 0.43478427160447214,\n",
       "    'NOX': -0.5671191430758109,\n",
       "    'TAX': -0.5840169438374804,\n",
       "    'INDUS': -0.6077690555969028,\n",
       "    'LSTAT': -0.781078183518635,\n",
       "    'PTRATIO': -0.5081654222854678},\n",
       "   'mean_residual_deviance': {'std': '1.7218326', 'average': '11.75712'}}}}"
      ]
     },
     "execution_count": 30,
     "metadata": {},
     "output_type": "execute_result"
    }
   ],
   "source": [
    "# Model 3 Evaluation Metrics\n",
    "train_job_output_response_m3 = client.job_output(train_response_m3['data']['jobId'])\n",
    "train_job_output_response_m3"
   ]
  },
  {
   "cell_type": "markdown",
   "metadata": {},
   "source": [
    "We have used the same algorithm for model 1 and model 2. The difference is in the hyperparameters. We can see the R2 of model 1 is 0.79 and average R2 of model 2 after cross validation is 0.81. which means model 2 is able to explain the variance better than model 1 and also model 3 (R2 avg = 0.71).\n",
    "\n",
    "We will be using model 2 for predictions"
   ]
  },
  {
   "cell_type": "markdown",
   "metadata": {},
   "source": [
    "#### Model Prediction"
   ]
  },
  {
   "cell_type": "code",
   "execution_count": 31,
   "metadata": {},
   "outputs": [
    {
     "data": {
      "text/plain": [
       "'/YOUR_S3_BUCKET/private/6730090969188272963/model/1624957436664_modelfile'"
      ]
     },
     "execution_count": 31,
     "metadata": {},
     "output_type": "execute_result"
    }
   ],
   "source": [
    "# load the model built\n",
    "model = train_job_output_response_m2['output']['modelUrl']\n",
    "model"
   ]
  },
  {
   "cell_type": "code",
   "execution_count": 32,
   "metadata": {},
   "outputs": [
    {
     "data": {
      "text/plain": [
       "{'code': 0,\n",
       " 'data': {'jobId': 31392,\n",
       "  'appId': 1612784542341,\n",
       "  'name': 'scikit_regression_predict',\n",
       "  'library': 'scikit',\n",
       "  'service': 'Regression',\n",
       "  'task': 'PREDICT',\n",
       "  'state': 'RUN',\n",
       "  'startTime': '2021-06-29T09:04:13.804+00:00',\n",
       "  'endTime': None,\n",
       "  'request': {'library': 'scikit',\n",
       "   'jobType': 'CSV',\n",
       "   'queryId': None,\n",
       "   'modelId': None,\n",
       "   'config': {'datasetUrl': '/YOUR_S3_BUCKET/private/6730090969188272963/Test_Data/1624957427662_boston_prediction_processed.csv',\n",
       "    'modelUrl': '/YOUR_S3_BUCKET/private/6730090969188272963/model/1624957436664_modelfile',\n",
       "    'params': {},\n",
       "    'features': ['LSTAT',\n",
       "     'INDUS',\n",
       "     'NOX',\n",
       "     'PTRATIO',\n",
       "     'RM',\n",
       "     'TAX',\n",
       "     'DIS',\n",
       "     'AGE']}},\n",
       "  'isStreamJob': False,\n",
       "  'jobType': 'CSV',\n",
       "  'queryId': None,\n",
       "  'isJobStopped': None,\n",
       "  'automateJobId': None}}"
      ]
     },
     "execution_count": 32,
     "metadata": {},
     "output_type": "execute_result"
    }
   ],
   "source": [
    "# Predict using created ML Model\n",
    "predict_response = client.predict(task, prediction_data, model,features = ['LSTAT', 'INDUS', 'NOX', 'PTRATIO', 'RM', 'TAX', 'DIS', 'AGE'],lib=library_1)\n",
    "predict_response"
   ]
  },
  {
   "cell_type": "code",
   "execution_count": 33,
   "metadata": {},
   "outputs": [
    {
     "data": {
      "text/plain": [
       "{'jobId': 31392,\n",
       " 'appId': 1612784542341,\n",
       " 'name': 'scikit_regression_predict',\n",
       " 'library': 'scikit',\n",
       " 'service': 'Regression',\n",
       " 'task': 'PREDICT',\n",
       " 'state': 'FINISH',\n",
       " 'startTime': '2021-06-29T09:04:13.804+00:00',\n",
       " 'endTime': None,\n",
       " 'isStreamJob': False,\n",
       " 'jobType': 'CSV',\n",
       " 'queryId': None,\n",
       " 'isJobStopped': None,\n",
       " 'automateJobId': None}"
      ]
     },
     "execution_count": 33,
     "metadata": {},
     "output_type": "execute_result"
    }
   ],
   "source": [
    "# check job status of prediction\n",
    "predict_job_status_response = client.job_status(predict_response['data']['jobId'])\n",
    "predict_job_status_response"
   ]
  },
  {
   "cell_type": "code",
   "execution_count": 34,
   "metadata": {},
   "outputs": [
    {
     "data": {
      "text/plain": [
       "{'id': 30666,\n",
       " 'jobId': 31392,\n",
       " 'output': {'predFileUrl': '/YOUR_S3_BUCKET/private/6730090969188272963/prediction/1624957454586_prediction.csv'}}"
      ]
     },
     "execution_count": 34,
     "metadata": {},
     "output_type": "execute_result"
    }
   ],
   "source": [
    "# use job output function to get the predictions file\n",
    "predict_job_output_response = client.job_output(predict_response['data']['jobId'])\n",
    "predict_job_output_response"
   ]
  },
  {
   "cell_type": "markdown",
   "metadata": {},
   "source": [
    "#### Download Predictions"
   ]
  },
  {
   "cell_type": "code",
   "execution_count": 35,
   "metadata": {},
   "outputs": [],
   "source": [
    "# download the predictions file using download function\n",
    "pred_file = predict_job_output_response['output']['predFileUrl']\n",
    "response = client.download(pred_file)"
   ]
  },
  {
   "cell_type": "markdown",
   "metadata": {},
   "source": [
    "#### Reference"
   ]
  },
  {
   "cell_type": "markdown",
   "metadata": {},
   "source": [
    "For more detail on using ML Regression please refer [DLTK ML Regression Documentation](https://docs.dltk.ai/machine_learning/regression.html)"
   ]
  },
  {
   "cell_type": "markdown",
   "metadata": {},
   "source": [
    ":\n",
    "<center><b>For More Details about DLTK</b></center>"
   ]
  },
  {
   "cell_type": "markdown",
   "metadata": {},
   "source": [
    "|[<img src=\"https://pbs.twimg.com/profile_images/909757546063323137/-RIWgodF.jpg\" width=50 title=\"Pypi Logo\"/>](https://pypi.org/project/qubitai-dltk/) |[<img src=\"https://cdn.iconscout.com/icon/free/png-512/documentation-1502741-1272951.png\" width=50 title=\"Documentation\"/>](https://docs.dltk.ai) | [<img src=\"https://cdn4.iconfinder.com/data/icons/iconsimple-logotypes/512/github-512.png\" width=50 title=\"Documentation\"/>](https://docs.dltk.ai)| \n",
    "|:-------------:|:-------:|:--------:|\n",
    "|pypi|Documentation|Github|"
   ]
  }
 ],
 "metadata": {
  "hide_input": false,
  "kernelspec": {
   "display_name": "dltk_pypi_104",
   "language": "python",
   "name": "dltk_pypi_104"
  },
  "language_info": {
   "codemirror_mode": {
    "name": "ipython",
    "version": 3
   },
   "file_extension": ".py",
   "mimetype": "text/x-python",
   "name": "python",
   "nbconvert_exporter": "python",
   "pygments_lexer": "ipython3",
   "version": "3.8.0"
  }
 },
 "nbformat": 4,
 "nbformat_minor": 4
}
