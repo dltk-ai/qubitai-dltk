{
 "cells": [
  {
   "cell_type": "markdown",
   "metadata": {},
   "source": [
    "### DLTK ML Regression Tutorial"
   ]
  },
  {
   "cell_type": "markdown",
   "metadata": {},
   "source": [
    "#### <font color=black> Importing Packages"
   ]
  },
  {
   "cell_type": "code",
   "execution_count": 3,
   "metadata": {},
   "outputs": [],
   "source": [
    "import json\n",
    "\n",
    "import dltk_ai"
   ]
  },
  {
   "cell_type": "markdown",
   "metadata": {},
   "source": [
    "#### Data"
   ]
  },
  {
   "cell_type": "markdown",
   "metadata": {},
   "source": [
    "The Boston Housing Dataset\n",
    "\n",
    "The Boston Housing Dataset is a derived from information collected by the U.S. Census Service concerning housing in the area of Boston MA. The following describes the dataset columns:\n",
    "\n",
    "The description of these variables:\n",
    "\n",
    "**CRIM**: Per capita crime rate by town\n",
    "\n",
    "**ZN**: Proportion of residential land zoned for lots over 25,000 sq. ft\n",
    "\n",
    "**INDUS**: Proportion of non-retail business acres per town\n",
    "\n",
    "**CHAS**: Charles River dummy variable (= 1 if tract bounds river; 0 otherwise)\n",
    "\n",
    "**NOX**: Nitric oxide concentration (parts per 10 million)\n",
    "\n",
    "**RM**: Average number of rooms per dwelling\n",
    "\n",
    "**AGE**: Proportion of owner-occupied units built prior to 1940\n",
    "\n",
    "**DIS**: Weighted distances to five Boston employment centers\n",
    "\n",
    "**RAD**: Index of accessibility to radial highways\n",
    "\n",
    "**TAX**: Full-value property tax rate per $10,000\n",
    "\n",
    "**PTRATIO**: Pupil-teacher ratio by town\n",
    "\n",
    "**B**: 1000(Bk — 0.63)², where Bk is the proportion of [people of African American descent] by town\n",
    "\n",
    "**LSTAT**: Percentage of lower status of the population\n",
    "\n",
    "**MEDV** - Median value of owner-occupied homes in $1000's    \n",
    "    "
   ]
  },
  {
   "cell_type": "code",
   "execution_count": 4,
   "metadata": {},
   "outputs": [
    {
     "data": {
      "text/html": [
       "<div>\n",
       "<style scoped>\n",
       "    .dataframe tbody tr th:only-of-type {\n",
       "        vertical-align: middle;\n",
       "    }\n",
       "\n",
       "    .dataframe tbody tr th {\n",
       "        vertical-align: top;\n",
       "    }\n",
       "\n",
       "    .dataframe thead th {\n",
       "        text-align: right;\n",
       "    }\n",
       "</style>\n",
       "<table border=\"1\" class=\"dataframe\">\n",
       "  <thead>\n",
       "    <tr style=\"text-align: right;\">\n",
       "      <th></th>\n",
       "      <th>CRIM</th>\n",
       "      <th>ZN</th>\n",
       "      <th>INDUS</th>\n",
       "      <th>CHAS</th>\n",
       "      <th>NOX</th>\n",
       "      <th>RM</th>\n",
       "      <th>AGE</th>\n",
       "      <th>DIS</th>\n",
       "      <th>RAD</th>\n",
       "      <th>TAX</th>\n",
       "      <th>PTRATIO</th>\n",
       "      <th>B</th>\n",
       "      <th>LSTAT</th>\n",
       "      <th>MEDV</th>\n",
       "    </tr>\n",
       "  </thead>\n",
       "  <tbody>\n",
       "    <tr>\n",
       "      <th>0</th>\n",
       "      <td>1.15172</td>\n",
       "      <td>0.0</td>\n",
       "      <td>8.14</td>\n",
       "      <td>0</td>\n",
       "      <td>0.538</td>\n",
       "      <td>5.701</td>\n",
       "      <td>95.0</td>\n",
       "      <td>3.7872</td>\n",
       "      <td>4</td>\n",
       "      <td>307</td>\n",
       "      <td>21.0</td>\n",
       "      <td>358.77</td>\n",
       "      <td>18.35</td>\n",
       "      <td>13.1</td>\n",
       "    </tr>\n",
       "    <tr>\n",
       "      <th>1</th>\n",
       "      <td>0.01501</td>\n",
       "      <td>90.0</td>\n",
       "      <td>1.21</td>\n",
       "      <td>1</td>\n",
       "      <td>0.401</td>\n",
       "      <td>7.923</td>\n",
       "      <td>24.8</td>\n",
       "      <td>5.8850</td>\n",
       "      <td>1</td>\n",
       "      <td>198</td>\n",
       "      <td>13.6</td>\n",
       "      <td>395.52</td>\n",
       "      <td>3.16</td>\n",
       "      <td>50.0</td>\n",
       "    </tr>\n",
       "    <tr>\n",
       "      <th>2</th>\n",
       "      <td>73.53410</td>\n",
       "      <td>0.0</td>\n",
       "      <td>18.10</td>\n",
       "      <td>0</td>\n",
       "      <td>0.679</td>\n",
       "      <td>5.957</td>\n",
       "      <td>100.0</td>\n",
       "      <td>1.8026</td>\n",
       "      <td>24</td>\n",
       "      <td>666</td>\n",
       "      <td>20.2</td>\n",
       "      <td>16.45</td>\n",
       "      <td>20.62</td>\n",
       "      <td>8.8</td>\n",
       "    </tr>\n",
       "    <tr>\n",
       "      <th>3</th>\n",
       "      <td>0.04527</td>\n",
       "      <td>0.0</td>\n",
       "      <td>11.93</td>\n",
       "      <td>0</td>\n",
       "      <td>0.573</td>\n",
       "      <td>6.120</td>\n",
       "      <td>76.7</td>\n",
       "      <td>2.2875</td>\n",
       "      <td>1</td>\n",
       "      <td>273</td>\n",
       "      <td>21.0</td>\n",
       "      <td>396.90</td>\n",
       "      <td>9.08</td>\n",
       "      <td>20.6</td>\n",
       "    </tr>\n",
       "    <tr>\n",
       "      <th>4</th>\n",
       "      <td>9.59571</td>\n",
       "      <td>0.0</td>\n",
       "      <td>18.10</td>\n",
       "      <td>0</td>\n",
       "      <td>0.693</td>\n",
       "      <td>6.404</td>\n",
       "      <td>100.0</td>\n",
       "      <td>1.6390</td>\n",
       "      <td>24</td>\n",
       "      <td>666</td>\n",
       "      <td>20.2</td>\n",
       "      <td>376.11</td>\n",
       "      <td>20.31</td>\n",
       "      <td>12.1</td>\n",
       "    </tr>\n",
       "  </tbody>\n",
       "</table>\n",
       "</div>"
      ],
      "text/plain": [
       "       CRIM    ZN  INDUS  CHAS    NOX     RM    AGE     DIS  RAD  TAX  \\\n",
       "0   1.15172   0.0   8.14     0  0.538  5.701   95.0  3.7872    4  307   \n",
       "1   0.01501  90.0   1.21     1  0.401  7.923   24.8  5.8850    1  198   \n",
       "2  73.53410   0.0  18.10     0  0.679  5.957  100.0  1.8026   24  666   \n",
       "3   0.04527   0.0  11.93     0  0.573  6.120   76.7  2.2875    1  273   \n",
       "4   9.59571   0.0  18.10     0  0.693  6.404  100.0  1.6390   24  666   \n",
       "\n",
       "   PTRATIO       B  LSTAT  MEDV  \n",
       "0     21.0  358.77  18.35  13.1  \n",
       "1     13.6  395.52   3.16  50.0  \n",
       "2     20.2   16.45  20.62   8.8  \n",
       "3     21.0  396.90   9.08  20.6  \n",
       "4     20.2  376.11  20.31  12.1  "
      ]
     },
     "execution_count": 4,
     "metadata": {},
     "output_type": "execute_result"
    }
   ],
   "source": [
    "# Read data into a dataframe\n",
    "import sys\n",
    "sys.path.append(\"../../\")\n",
    "\n",
    "dataset = dltk_ai.read_data('./examples/data/csv/boston_train.csv')\n",
    "dataset.head()"
   ]
  },
  {
   "cell_type": "code",
   "execution_count": 5,
   "metadata": {},
   "outputs": [
    {
     "data": {
      "text/plain": [
       "(404, 14)"
      ]
     },
     "execution_count": 5,
     "metadata": {},
     "output_type": "execute_result"
    }
   ],
   "source": [
    "#Shape of the data\n",
    "dataset.shape\n"
   ]
  },
  {
   "cell_type": "markdown",
   "metadata": {},
   "source": [
    "#### Data Profile\n"
   ]
  },
  {
   "cell_type": "code",
   "execution_count": 6,
   "metadata": {},
   "outputs": [
    {
     "name": "stderr",
     "output_type": "stream",
     "text": [
      "2021-04-07 19:58:45,897 - INFO     - NumExpr defaulting to 8 threads.\n"
     ]
    },
    {
     "data": {
      "text/html": [
       "\n",
       "        <iframe\n",
       "            width=\"100%\"\n",
       "            height=\"475\"\n",
       "            src=\"http://DESKTOP-10ROGHH:40001/dtale/iframe/1\"\n",
       "            frameborder=\"0\"\n",
       "            allowfullscreen\n",
       "        ></iframe>\n",
       "        "
      ],
      "text/plain": [
       "<IPython.lib.display.IFrame at 0x11abd434400>"
      ]
     },
     "metadata": {},
     "output_type": "display_data"
    },
    {
     "data": {
      "text/plain": []
     },
     "execution_count": 6,
     "metadata": {},
     "output_type": "execute_result"
    }
   ],
   "source": [
    "dltk_ai.data_profile(dataset)"
   ]
  },
  {
   "cell_type": "markdown",
   "metadata": {},
   "source": [
    "In the above output, please click on the **play button**.\n",
    "\n",
    "In the **describe** section, you will be able to see the characteristics of all the variables.\n",
    "\n",
    "* Variable ZS has 0 value for 25th & 50th Quantile\n",
    "* Variable CHAS has 0 value for 25th, 50th & 75th Percentile. \n",
    "* These columns may not be useful in predicting MEDV\n",
    "\n",
    "**Distribution of Target Variable**\n",
    "\n",
    "* We see that the values of MEDV (target variable) has few outliers.\n",
    "\n",
    "**Distribution of other variables**\n",
    "\n",
    "* Most of the predictors contain outliers.\n",
    "    \n",
    "**Correlation**\n",
    "\n",
    "In the **correlations** section, from the matrix,\n",
    "\n",
    "    * We see TAX and RAD are highly correlated features. The columns LSTAT, INDUS, RM, TAX, NOX, PTRAIO has a correlation score above 0.5 with MEDV which is a good indication of using as predictors."
   ]
  },
  {
   "cell_type": "markdown",
   "metadata": {},
   "source": [
    "#### Data Preprocessing"
   ]
  },
  {
   "cell_type": "code",
   "execution_count": 7,
   "metadata": {},
   "outputs": [
    {
     "data": {
      "text/plain": [
       "<AxesSubplot:>"
      ]
     },
     "execution_count": 7,
     "metadata": {},
     "output_type": "execute_result"
    },
    {
     "data": {
      "image/png": "[encoded data removed]",
      "text/plain": [
       "<Figure size 432x288 with 1 Axes>"
      ]
     },
     "metadata": {
      "needs_background": "light"
     },
     "output_type": "display_data"
    }
   ],
   "source": [
    "# Distribution of target variable\n",
    "dataset[\"MEDV\"].hist()"
   ]
  },
  {
   "cell_type": "markdown",
   "metadata": {},
   "source": [
    "#### Outlier Treatment"
   ]
  },
  {
   "cell_type": "code",
   "execution_count": 8,
   "metadata": {},
   "outputs": [
    {
     "data": {
      "text/plain": [
       "<AxesSubplot:>"
      ]
     },
     "execution_count": 8,
     "metadata": {},
     "output_type": "execute_result"
    },
    {
     "data": {
      "image/png": "[encoded data removed]",
      "text/plain": [
       "<Figure size 432x288 with 1 Axes>"
      ]
     },
     "metadata": {
      "needs_background": "light"
     },
     "output_type": "display_data"
    }
   ],
   "source": [
    "# Treat outliers from the target varible\n",
    "# remove data where 'MEDV' has outliers\n",
    "data = dltk_ai.treat_outliers(dataset,['MEDV'],remove=True)\n",
    "\n",
    "# Distribution of Target Variable after removing Outliers\n",
    "data['MEDV'].hist()"
   ]
  },
  {
   "cell_type": "markdown",
   "metadata": {},
   "source": [
    "#### Feature Scaling\n",
    "\n",
    "##### **Importance of Scaling**\n",
    "\n",
    "<font color=black> If there is a vast difference in the range of the input data, machine learning algorithms underlying assumption that higher ranging numbers have superiority of some sort. So these more significant number starts playing a more decisive role while training the model."
   ]
  },
  {
   "cell_type": "code",
   "execution_count": 9,
   "metadata": {
    "scrolled": true
   },
   "outputs": [],
   "source": [
    "## MinMax scaler from dltk\n",
    "scaler_columns = ['LSTAT', 'INDUS', 'NOX', 'PTRATIO', 'RM', 'TAX', 'DIS', 'AGE']\n",
    "\n",
    "scaled_data = dltk_ai.feature_scaling(data, scaler_columns, method=\"minmaxscaler\")\n",
    "\n",
    "scaled_data['MEDV'] = data['MEDV']\n",
    "scaled_data.to_csv('boston_train_processed.csv',index=False)"
   ]
  },
  {
   "cell_type": "code",
   "execution_count": 10,
   "metadata": {},
   "outputs": [],
   "source": [
    "# Preprocessing Prediction Data\n",
    "pred_dataset = dltk_ai.read_data('./examples/data/csv/boston_test.csv')\n",
    "\n",
    "pred_scaler_columns = ['LSTAT', 'INDUS', 'NOX', 'PTRATIO', 'RM', 'TAX', 'DIS', 'AGE']\n",
    "\n",
    "pred_scaled_data = dltk_ai.feature_scaling(pred_dataset, pred_scaler_columns, method=\"minmaxscaler\")\n",
    "\n",
    "\n",
    "# save preprocessed prediction dataset\n",
    "pred_scaled_data.to_csv('boston_prediction_processed.csv',index=False)"
   ]
  },
  {
   "cell_type": "markdown",
   "metadata": {},
   "source": [
    "#### Initializing DLTK Client"
   ]
  },
  {
   "cell_type": "markdown",
   "metadata": {},
   "source": [
    "Please check qubitai-dltk documentation on setting up dltk **link**\n",
    "\n",
    "> <u>Parameters Descriptions</u>\n",
    ">\n",
    "> **API key**: `If authentication is enabled`, you need to provide a valid API key\n",
    ">\n",
    "> **base_url**: url where kong/base service provided by OpenDLTK is deployed."
   ]
  },
  {
   "cell_type": "code",
   "execution_count": 11,
   "metadata": {},
   "outputs": [],
   "source": [
    "from dltk_ai.dataset_types import Dataset\n",
    "client = dltk_ai.DltkAiClient(base_url=\"http://localhost:8000\")"
   ]
  },
  {
   "cell_type": "markdown",
   "metadata": {},
   "source": [
    "<div class=\"alert alert-block alert-info\">\n",
    "<b>See Also:</b> \n",
    "\n",
    " \n",
    "\n",
    "1. [How to generate API key](https://docs.dltk.ai/qubitai-dltk/docs/build/html/getting_started/generateAPIkey.html)\n",
    "2. [OpenDLTK deployment](http://docs.dltk.ai/qubitai-dltk/docs/build/html/getting_started/openDLTK_setup.html)\n",
    "\n",
    " \n",
    "\n",
    "</div>"
   ]
  },
  {
   "cell_type": "markdown",
   "metadata": {},
   "source": [
    "#### Uploading training data"
   ]
  },
  {
   "cell_type": "code",
   "execution_count": 14,
   "metadata": {},
   "outputs": [
    {
     "name": "stdout",
     "output_type": "stream",
     "text": [
      "{'id': 568976759039196, 'userId': 0, 'username': None, 'fileUrl': '/src/main/resources/localstorage/Train_Data/1617805790158_boston_train_processed.csv', 's3Url': '/src/main/resources/localstorage/Train_Data/1617805790158_boston_train_processed.csv', 'fileSize': 68134, 'fileName': 'boston_train_processed.csv', 'label': 'Train_Data', 'type': 'FILE', 'isPublic': False, 'cloudfrontUrl': None, 'cloudfrontUrlSigned': None, 's3Key': 'private/0/Train_Data/1617805790158_boston_train_processed.csv', 'metadata': {'attributes': ['CRIM', 'ZN', 'INDUS', 'CHAS', 'NOX', 'RM', 'AGE', 'DIS', 'RAD', 'TAX', 'PTRATIO', 'B', 'LSTAT', 'MEDV']}, 'fileSystem': 'LOCAL', 'createdAt': '2021-04-07T14:29:50.200+00:00', 'updatedAt': '2021-04-07T14:29:50.200+00:00'}\n"
     ]
    }
   ],
   "source": [
    "# Upload Train dataset\n",
    "train_data_store_response = client.store('boston_train_processed.csv', Dataset.TRAIN_DATA)\n",
    "print(train_data_store_response)\n",
    "train_data = train_data_store_response['fileUrl']"
   ]
  },
  {
   "cell_type": "markdown",
   "metadata": {},
   "source": [
    "#### Uploading prediction data"
   ]
  },
  {
   "cell_type": "code",
   "execution_count": 15,
   "metadata": {},
   "outputs": [
    {
     "name": "stdout",
     "output_type": "stream",
     "text": [
      "{'id': 834881133019423, 'userId': 0, 'username': None, 'fileUrl': '/src/main/resources/localstorage/Test_Data/1617805791790_boston_prediction_processed.csv', 's3Url': '/src/main/resources/localstorage/Test_Data/1617805791790_boston_prediction_processed.csv', 'fileSize': 17997, 'fileName': 'boston_prediction_processed.csv', 'label': 'Test_Data', 'type': 'FILE', 'isPublic': False, 'cloudfrontUrl': None, 'cloudfrontUrlSigned': None, 's3Key': 'private/0/Test_Data/1617805791790_boston_prediction_processed.csv', 'metadata': {'attributes': ['CRIM', 'ZN', 'INDUS', 'CHAS', 'NOX', 'RM', 'AGE', 'DIS', 'RAD', 'TAX', 'PTRATIO', 'B', 'LSTAT']}, 'fileSystem': 'LOCAL', 'createdAt': '2021-04-07T14:29:51.834+00:00', 'updatedAt': '2021-04-07T14:29:51.834+00:00'}\n"
     ]
    }
   ],
   "source": [
    "# Upload Train dataset\n",
    "prediction_data_store_response = client.store('boston_prediction_processed.csv', Dataset.TEST_DATA)\n",
    "print(prediction_data_store_response)\n",
    "prediction_data = prediction_data_store_response['fileUrl']"
   ]
  },
  {
   "cell_type": "markdown",
   "metadata": {},
   "source": [
    "#### Model Building"
   ]
  },
  {
   "cell_type": "markdown",
   "metadata": {},
   "source": [
    "Next step after uploading the dataset is to train a model using Train Dataset.\n",
    "Please check [qubitai-dltk document](https://docs.dltk.ai) for supported Libraries/framework for training a model.\n",
    "\n",
    "We will be building 2 models using RandomForest from scikit and LinearRegression from weka to check which is the best performing algorithm for this problem.\n",
    "\n",
    "**Model 1**\n",
    "\n",
    "*  **Library :** scikit\n",
    "*  **Algorithm :** RandomForest\n",
    "\n",
    "**Model 2** - Hyperparameter Tuning\n",
    "\n",
    "*  **Library :** scikit\n",
    "*  **Algorithm :** RandomForest\n",
    "\n",
    "**Model 3**\n",
    "\n",
    "*  **Library :** h2o\n",
    "*  **Algorithm :** LinearRegression\n"
   ]
  },
  {
   "cell_type": "markdown",
   "metadata": {},
   "source": [
    "#### Model 1\n"
   ]
  },
  {
   "cell_type": "code",
   "execution_count": 16,
   "metadata": {},
   "outputs": [
    {
     "name": "stdout",
     "output_type": "stream",
     "text": [
      "{'code': 0, 'data': {'jobId': 191, 'appId': 0, 'name': 'scikit_regression_train', 'library': 'scikit', 'service': 'Regression', 'task': 'TRAIN', 'state': 'RUN', 'startTime': '2021-04-07T14:29:56.762+00:00', 'endTime': None, 'request': {'library': 'scikit', 'jobType': 'CSV', 'queryId': None, 'modelId': None, 'config': {'name': 'House Price Prediction Model M1', 'algorithm': 'RandomForest', 'datasetUrl': '/src/main/resources/localstorage/Train_Data/1617805790158_boston_train_processed.csv', 'label': 'MEDV', 'trainPercentage': 60, 'features': ['LSTAT', 'INDUS', 'NOX', 'PTRATIO', 'RM', 'TAX', 'DIS', 'AGE'], 'saveModel': 'true', 'params': {}, 'folds': 5, 'crossValidation': False}}, 'isStreamJob': False, 'jobType': 'CSV', 'queryId': None, 'isJobStopped': None, 'automateJobId': None}}\n"
     ]
    }
   ],
   "source": [
    "# Define the task - Classification/Regression\n",
    "task = \"regression\"\n",
    "\n",
    "# Library to use (scikit, weka, h2o)\n",
    "library_1 = \"scikit\"\n",
    "algorithm_1 = \"RandomForest\"\n",
    "\n",
    "# features to be used for training\n",
    "features = ['LSTAT', 'INDUS', 'NOX', 'PTRATIO', 'RM', 'TAX', 'DIS', 'AGE']\n",
    "\n",
    "# Label to predict\n",
    "label = 'MEDV'\n",
    "\n",
    "# Train-test split percentage\n",
    "train_percentage_1 = 60\n",
    "\n",
    "# Save model \n",
    "save_model = True\n",
    "\n",
    "train_response_m1 = client.train(task, algorithm_1, train_data, label,features,\"House Price Prediction Model M1\", library_1, train_percentage_1, save_model)\n",
    "print(train_response_m1)"
   ]
  },
  {
   "cell_type": "markdown",
   "metadata": {},
   "source": [
    "####  Model 2\n",
    "    \n",
    "Changing the hyperparameters for algorithm used above."
   ]
  },
  {
   "cell_type": "code",
   "execution_count": 17,
   "metadata": {},
   "outputs": [
    {
     "name": "stdout",
     "output_type": "stream",
     "text": [
      "{'code': 0, 'data': {'jobId': 192, 'appId': 0, 'name': 'scikit_regression_train', 'library': 'scikit', 'service': 'Regression', 'task': 'TRAIN', 'state': 'RUN', 'startTime': '2021-04-07T14:29:58.645+00:00', 'endTime': None, 'request': {'library': 'scikit', 'jobType': 'CSV', 'queryId': None, 'modelId': None, 'config': {'name': 'House Price Prediction Model M1', 'algorithm': 'RandomForest', 'datasetUrl': '/src/main/resources/localstorage/Train_Data/1617805790158_boston_train_processed.csv', 'label': 'MEDV', 'trainPercentage': 80, 'features': ['LSTAT', 'INDUS', 'NOX', 'PTRATIO', 'RM', 'TAX', 'DIS', 'AGE'], 'saveModel': 'true', 'params': {}, 'folds': 10, 'crossValidation': True}}, 'isStreamJob': False, 'jobType': 'CSV', 'queryId': None, 'isJobStopped': None, 'automateJobId': None}}\n"
     ]
    }
   ],
   "source": [
    "# Train-test split percentage\n",
    "train_percentage_2 = 80\n",
    "\n",
    "# cross validation\n",
    "folds = 10\n",
    "cross_validation = True\n",
    "\n",
    "train_response_m2 = client.train(task, algorithm_1, train_data, label,features,\"House Price Prediction Model M1\", library_1, train_percentage_2, save_model, folds, cross_validation)\n",
    "print(train_response_m2)"
   ]
  },
  {
   "cell_type": "markdown",
   "metadata": {},
   "source": [
    "#### Model 3"
   ]
  },
  {
   "cell_type": "code",
   "execution_count": 18,
   "metadata": {},
   "outputs": [
    {
     "name": "stdout",
     "output_type": "stream",
     "text": [
      "{'code': 0, 'data': {'jobId': 193, 'appId': 0, 'name': 'h2o_regression_train', 'library': 'h2o', 'service': 'Regression', 'task': 'TRAIN', 'state': 'RUN', 'startTime': '2021-04-07T14:30:00.315+00:00', 'endTime': None, 'request': {'library': 'h2o', 'jobType': 'CSV', 'queryId': None, 'modelId': None, 'config': {'name': 'House Price Prediction Model M2', 'algorithm': 'LinearRegression', 'datasetUrl': '/src/main/resources/localstorage/Train_Data/1617805790158_boston_train_processed.csv', 'label': 'MEDV', 'trainPercentage': 70, 'features': ['LSTAT', 'INDUS', 'NOX', 'PTRATIO', 'RM', 'TAX', 'DIS', 'AGE'], 'saveModel': 'true', 'params': {}, 'folds': 5, 'crossValidation': True}}, 'isStreamJob': False, 'jobType': 'CSV', 'queryId': None, 'isJobStopped': None, 'automateJobId': None}}\n"
     ]
    }
   ],
   "source": [
    "algorithm_3 = \"LinearRegression\"\n",
    "library_3 = \"h2o\"\n",
    "\n",
    "#\n",
    "train_percentage_3 = 70\n",
    "\n",
    "# cross validation\n",
    "folds = 5\n",
    "cross_validation = True\n",
    "\n",
    "train_response_m3 = client.train(task, algorithm_3, train_data, label,features,\"House Price Prediction Model M2\", library_3, train_percentage_3, save_model, folds, cross_validation)\n",
    "print(train_response_m3)"
   ]
  },
  {
   "cell_type": "markdown",
   "metadata": {},
   "source": [
    "#### Checking training status</font>\n",
    "\n",
    "As training a model might take lot of time depending on size of dataset, we can check current status of model training using below functions"
   ]
  },
  {
   "cell_type": "code",
   "execution_count": 19,
   "metadata": {},
   "outputs": [
    {
     "name": "stdout",
     "output_type": "stream",
     "text": [
      "{'jobId': 191, 'appId': 0, 'name': 'scikit_regression_train', 'library': 'scikit', 'service': 'Regression', 'task': 'TRAIN', 'state': 'FINISH', 'startTime': '2021-04-07T14:29:56.762+00:00', 'endTime': None, 'isStreamJob': False, 'jobType': 'CSV', 'queryId': None, 'isJobStopped': None, 'automateJobId': None}\n",
      "{\n",
      "  \"jobId\": 191,\n",
      "  \"appId\": 0,\n",
      "  \"name\": \"scikit_regression_train\",\n",
      "  \"library\": \"scikit\",\n",
      "  \"service\": \"Regression\",\n",
      "  \"task\": \"TRAIN\",\n",
      "  \"state\": \"FINISH\",\n",
      "  \"startTime\": \"2021-04-07T14:29:56.762+00:00\",\n",
      "  \"endTime\": null,\n",
      "  \"isStreamJob\": false,\n",
      "  \"jobType\": \"CSV\",\n",
      "  \"queryId\": null,\n",
      "  \"isJobStopped\": null,\n",
      "  \"automateJobId\": null\n",
      "}\n"
     ]
    }
   ],
   "source": [
    "import json\n",
    "train_job_status_response_m1 = client.job_status(train_response_m1['data']['jobId'])\n",
    "print(train_job_status_response_m1)\n",
    "print(json.dumps(train_job_status_response_m1, indent=2))"
   ]
  },
  {
   "cell_type": "code",
   "execution_count": 20,
   "metadata": {},
   "outputs": [
    {
     "name": "stdout",
     "output_type": "stream",
     "text": [
      "{'jobId': 192, 'appId': 0, 'name': 'scikit_regression_train', 'library': 'scikit', 'service': 'Regression', 'task': 'TRAIN', 'state': 'FINISH', 'startTime': '2021-04-07T14:29:58.645+00:00', 'endTime': None, 'isStreamJob': False, 'jobType': 'CSV', 'queryId': None, 'isJobStopped': None, 'automateJobId': None}\n",
      "{\n",
      "  \"jobId\": 192,\n",
      "  \"appId\": 0,\n",
      "  \"name\": \"scikit_regression_train\",\n",
      "  \"library\": \"scikit\",\n",
      "  \"service\": \"Regression\",\n",
      "  \"task\": \"TRAIN\",\n",
      "  \"state\": \"FINISH\",\n",
      "  \"startTime\": \"2021-04-07T14:29:58.645+00:00\",\n",
      "  \"endTime\": null,\n",
      "  \"isStreamJob\": false,\n",
      "  \"jobType\": \"CSV\",\n",
      "  \"queryId\": null,\n",
      "  \"isJobStopped\": null,\n",
      "  \"automateJobId\": null\n",
      "}\n"
     ]
    }
   ],
   "source": [
    "train_job_status_response_m2 = client.job_status(train_response_m2['data']['jobId'])\n",
    "print(train_job_status_response_m2)\n",
    "print(json.dumps(train_job_status_response_m2, indent=2))"
   ]
  },
  {
   "cell_type": "code",
   "execution_count": 21,
   "metadata": {},
   "outputs": [
    {
     "name": "stdout",
     "output_type": "stream",
     "text": [
      "{'jobId': 193, 'appId': 0, 'name': 'h2o_regression_train', 'library': 'h2o', 'service': 'Regression', 'task': 'TRAIN', 'state': 'FINISH', 'startTime': '2021-04-07T14:30:00.315+00:00', 'endTime': None, 'isStreamJob': False, 'jobType': 'CSV', 'queryId': None, 'isJobStopped': None, 'automateJobId': None}\n",
      "{\n",
      "  \"jobId\": 193,\n",
      "  \"appId\": 0,\n",
      "  \"name\": \"h2o_regression_train\",\n",
      "  \"library\": \"h2o\",\n",
      "  \"service\": \"Regression\",\n",
      "  \"task\": \"TRAIN\",\n",
      "  \"state\": \"FINISH\",\n",
      "  \"startTime\": \"2021-04-07T14:30:00.315+00:00\",\n",
      "  \"endTime\": null,\n",
      "  \"isStreamJob\": false,\n",
      "  \"jobType\": \"CSV\",\n",
      "  \"queryId\": null,\n",
      "  \"isJobStopped\": null,\n",
      "  \"automateJobId\": null\n",
      "}\n"
     ]
    }
   ],
   "source": [
    "train_job_status_response_m3 = client.job_status(train_response_m3['data']['jobId'])\n",
    "print(train_job_status_response_m3)\n",
    "print(json.dumps(train_job_status_response_m3, indent=2))"
   ]
  },
  {
   "cell_type": "markdown",
   "metadata": {},
   "source": [
    "<font color=red>**Note :**</font> Proceed further only after state is **'FINISH'**\n",
    "    \n",
    "####  Model Training Job Output </font>\n",
    "\n",
    "##### **Model Evaluation in DLTK**\n",
    "\n",
    "<font color=black> During the training process, based on the train percentage input, the data is divided into train and test sets. Train set is used for model building and test set is used to evaluate the model. The metrics displayed in the Job Output function consists metrics of both train and test sets.\n",
    "\n",
    "Once model training job is finished, we can look into the model evaluation metrics such as \n",
    "- errorRate\n",
    "- R2\n",
    "\n",
    "& also get **modelUrl**, which will be required for prediction step"
   ]
  },
  {
   "cell_type": "code",
   "execution_count": 22,
   "metadata": {},
   "outputs": [
    {
     "data": {
      "text/plain": [
       "{'id': 182,\n",
       " 'jobId': 191,\n",
       " 'output': {'eval': {'R2': 0.8013631483481758,\n",
       "   'MAE': 2.1471946308724816,\n",
       "   'MSE': 7.973845288590599,\n",
       "   'errorRate': 2.823799796124116,\n",
       "   'pearsonCorrelation': {'RM': 0.43260947881035655,\n",
       "    'AGE': -0.608596401417354,\n",
       "    'DIS': 0.5270967847275569,\n",
       "    'NOX': -0.5845311994164061,\n",
       "    'TAX': -0.6138374974938431,\n",
       "    'INDUS': -0.6322821471415186,\n",
       "    'LSTAT': -0.7905307707586849,\n",
       "    'PTRATIO': -0.42830772438976084}},\n",
       "  'modelUrl': '/src/main/resources/localstorage/model/1617805806705_modelfile',\n",
       "  'evalTrain': {'R2': 0.9757403780461502,\n",
       "   'MAE': 0.7116171171171161,\n",
       "   'MSE': 1.0380810765765809,\n",
       "   'errorRate': 1.0188626387185766,\n",
       "   'pearsonCorrelation': {'RM': 0.5886229889107645,\n",
       "    'AGE': -0.5087813276206588,\n",
       "    'DIS': 0.3814949232169291,\n",
       "    'NOX': -0.5549250473032055,\n",
       "    'TAX': -0.5640039674105662,\n",
       "    'INDUS': -0.5919771218545393,\n",
       "    'LSTAT': -0.7748476816426748,\n",
       "    'PTRATIO': -0.5570954862987423}}}}"
      ]
     },
     "execution_count": 22,
     "metadata": {},
     "output_type": "execute_result"
    }
   ],
   "source": [
    "# Model 1 Evaluation Metrics\n",
    "train_job_output_response_m1 = client.job_output(train_response_m1['data']['jobId'])\n",
    "train_job_output_response_m1"
   ]
  },
  {
   "cell_type": "code",
   "execution_count": 23,
   "metadata": {},
   "outputs": [
    {
     "data": {
      "text/plain": [
       "{'id': 183,\n",
       " 'jobId': 192,\n",
       " 'output': {'eval': {'r2': {'std': 0.042887291670327836,\n",
       "    'average': 0.8177974855006372},\n",
       "   'explained_variance': {'std': 0.04302491948686924,\n",
       "    'average': 0.8235090585002037},\n",
       "   'mean_squared_error': {'std': 1.656315901237942,\n",
       "    'average': 7.1622925772403985},\n",
       "   'mean_absolute_error': {'std': 0.2088146647864813,\n",
       "    'average': 1.9762149359886205},\n",
       "   'mean_squared_log_error': {'std': 0.006690506390540492,\n",
       "    'average': 0.019179189477538494}},\n",
       "  'modelUrl': '/src/main/resources/localstorage/model/1617805870234_modelfile',\n",
       "  'evalTrain': {'r2': {'std': 0.0011953304779283261,\n",
       "    'average': 0.9752904040634116},\n",
       "   'explained_variance': {'std': 0.0011941585872748803,\n",
       "    'average': 0.9752978209965498},\n",
       "   'mean_squared_error': {'std': 0.044994352254548016,\n",
       "    'average': 1.031428511683841},\n",
       "   'pearsonCorrelation': {'RM': 0.5249690132766802,\n",
       "    'AGE': -0.5493631791851413,\n",
       "    'DIS': 0.43478427160447214,\n",
       "    'NOX': -0.5671191430758109,\n",
       "    'TAX': -0.5840169438374804,\n",
       "    'INDUS': -0.6077690555969028,\n",
       "    'LSTAT': -0.781078183518635,\n",
       "    'PTRATIO': -0.5081654222854678},\n",
       "   'mean_absolute_error': {'std': 0.014023999815446614,\n",
       "    'average': 0.7350608953264637},\n",
       "   'mean_squared_log_error': {'std': 0.00011701041289698236,\n",
       "    'average': 0.002879712853779343}}}}"
      ]
     },
     "execution_count": 23,
     "metadata": {},
     "output_type": "execute_result"
    }
   ],
   "source": [
    "# Model 2 Evaluation Metrics\n",
    "train_job_output_response_m2 = client.job_output(train_response_m2['data']['jobId'])\n",
    "train_job_output_response_m2"
   ]
  },
  {
   "cell_type": "code",
   "execution_count": 24,
   "metadata": {},
   "outputs": [
    {
     "data": {
      "text/plain": [
       "{'id': 184,\n",
       " 'jobId': 193,\n",
       " 'output': {'eval': None,\n",
       "  'modelUrl': '/src/main/resources/localstorage/model/1617805802408_GLM_model_python_1617794485344_176',\n",
       "  'evalTrain': {'r2': {'std': '0.035555597', 'average': '0.70356035'},\n",
       "   'mae': {'std': '0.110403486', 'average': '2.6753855'},\n",
       "   'mse': {'std': '1.285791', 'average': '12.082398'},\n",
       "   'rmse': {'std': '0.18674757', 'average': '3.4719589'},\n",
       "   'rmsle': {'std': '0.021971218', 'average': '0.18856354'},\n",
       "   'null_deviance': {'std': '540.42847', 'average': '3128.3975'},\n",
       "   'residual_deviance': {'std': '154.5983', 'average': '897.64'},\n",
       "   'pearsonCorrelation': {'RM': 0.5249690132766802,\n",
       "    'AGE': -0.5493631791851413,\n",
       "    'DIS': 0.43478427160447214,\n",
       "    'NOX': -0.5671191430758109,\n",
       "    'TAX': -0.5840169438374804,\n",
       "    'INDUS': -0.6077690555969028,\n",
       "    'LSTAT': -0.781078183518635,\n",
       "    'PTRATIO': -0.5081654222854678},\n",
       "   'mean_residual_deviance': {'std': '1.285791', 'average': '12.082398'}}}}"
      ]
     },
     "execution_count": 24,
     "metadata": {},
     "output_type": "execute_result"
    }
   ],
   "source": [
    "# Model 3 Evaluation Metrics\n",
    "train_job_output_response_m3 = client.job_output(train_response_m3['data']['jobId'])\n",
    "train_job_output_response_m3"
   ]
  },
  {
   "cell_type": "markdown",
   "metadata": {},
   "source": [
    "We have used the same algorithm for model 1 and model 2. The difference is in the hyperparameters. We can see the R2 of model 1 is 0.79 and average R2 of model 2 after cross validation is 0.81. which means model 2 is able to explain the variance better than model 1 and also model 3 (R2 avg = 0.71).\n",
    "\n",
    "We will be using model 2 for predictions"
   ]
  },
  {
   "cell_type": "markdown",
   "metadata": {},
   "source": [
    "#### Model Prediction"
   ]
  },
  {
   "cell_type": "code",
   "execution_count": 25,
   "metadata": {},
   "outputs": [
    {
     "data": {
      "text/plain": [
       "'/src/main/resources/localstorage/model/1617805870234_modelfile'"
      ]
     },
     "execution_count": 25,
     "metadata": {},
     "output_type": "execute_result"
    }
   ],
   "source": [
    "# load the model built\n",
    "model = train_job_output_response_m2['output']['modelUrl']\n",
    "model"
   ]
  },
  {
   "cell_type": "code",
   "execution_count": 26,
   "metadata": {},
   "outputs": [
    {
     "data": {
      "text/plain": [
       "{'code': 0,\n",
       " 'data': {'jobId': 194,\n",
       "  'appId': 0,\n",
       "  'name': 'scikit_regression_predict',\n",
       "  'library': 'scikit',\n",
       "  'service': 'Regression',\n",
       "  'task': 'PREDICT',\n",
       "  'state': 'RUN',\n",
       "  'startTime': '2021-04-07T14:31:38.534+00:00',\n",
       "  'endTime': None,\n",
       "  'request': {'library': 'scikit',\n",
       "   'jobType': 'CSV',\n",
       "   'queryId': None,\n",
       "   'modelId': None,\n",
       "   'config': {'datasetUrl': '/src/main/resources/localstorage/Test_Data/1617805791790_boston_prediction_processed.csv',\n",
       "    'modelUrl': '/src/main/resources/localstorage/model/1617805870234_modelfile',\n",
       "    'params': {},\n",
       "    'features': ['LSTAT',\n",
       "     'INDUS',\n",
       "     'NOX',\n",
       "     'PTRATIO',\n",
       "     'RM',\n",
       "     'TAX',\n",
       "     'DIS',\n",
       "     'AGE']}},\n",
       "  'isStreamJob': False,\n",
       "  'jobType': 'CSV',\n",
       "  'queryId': None,\n",
       "  'isJobStopped': None,\n",
       "  'automateJobId': None}}"
      ]
     },
     "execution_count": 26,
     "metadata": {},
     "output_type": "execute_result"
    }
   ],
   "source": [
    "# Predict using created ML Model\n",
    "predict_response = client.predict(task, prediction_data, model,features = ['LSTAT', 'INDUS', 'NOX', 'PTRATIO', 'RM', 'TAX', 'DIS', 'AGE'],lib=library_1)\n",
    "predict_response"
   ]
  },
  {
   "cell_type": "code",
   "execution_count": 27,
   "metadata": {},
   "outputs": [
    {
     "data": {
      "text/plain": [
       "{'jobId': 194,\n",
       " 'appId': 0,\n",
       " 'name': 'scikit_regression_predict',\n",
       " 'library': 'scikit',\n",
       " 'service': 'Regression',\n",
       " 'task': 'PREDICT',\n",
       " 'state': 'FINISH',\n",
       " 'startTime': '2021-04-07T14:31:38.534+00:00',\n",
       " 'endTime': None,\n",
       " 'isStreamJob': False,\n",
       " 'jobType': 'CSV',\n",
       " 'queryId': None,\n",
       " 'isJobStopped': None,\n",
       " 'automateJobId': None}"
      ]
     },
     "execution_count": 27,
     "metadata": {},
     "output_type": "execute_result"
    }
   ],
   "source": [
    "# check job status of prediction\n",
    "predict_job_status_response = client.job_status(predict_response['data']['jobId'])\n",
    "predict_job_status_response"
   ]
  },
  {
   "cell_type": "code",
   "execution_count": 28,
   "metadata": {},
   "outputs": [
    {
     "data": {
      "text/plain": [
       "{'id': 185,\n",
       " 'jobId': 194,\n",
       " 'output': {'predFileUrl': '/src/main/resources/localstorage/prediction/1617805899422_prediction.csv'}}"
      ]
     },
     "execution_count": 28,
     "metadata": {},
     "output_type": "execute_result"
    }
   ],
   "source": [
    "# use job output function to get the predictions file\n",
    "predict_job_output_response = client.job_output(predict_response['data']['jobId'])\n",
    "predict_job_output_response"
   ]
  },
  {
   "cell_type": "markdown",
   "metadata": {},
   "source": [
    "#### Download Predictions"
   ]
  },
  {
   "cell_type": "code",
   "execution_count": 29,
   "metadata": {},
   "outputs": [],
   "source": [
    "# download the predictions file using download function\n",
    "pred_file = predict_job_output_response['output']['predFileUrl']\n",
    "response = client.download(pred_file)"
   ]
  },
  {
   "cell_type": "markdown",
   "metadata": {},
   "source": [
    "#### Reference"
   ]
  },
  {
   "cell_type": "markdown",
   "metadata": {},
   "source": [
    "For more detail on using ML Regression please refer [DLTK ML Regression Documentation](https://docs.dltk.ai/machine_learning/regression.html)"
   ]
  },
  {
   "cell_type": "markdown",
   "metadata": {},
   "source": [
    ":\n",
    "<center><b>For More Details about DLTK</b></center>"
   ]
  },
  {
   "cell_type": "markdown",
   "metadata": {},
   "source": [
    "|[<img src=\"https://pbs.twimg.com/profile_images/909757546063323137/-RIWgodF.jpg\" width=50 title=\"Pypi Logo\"/>](https://pypi.org/project/qubitai-dltk/) |[<img src=\"https://cdn.iconscout.com/icon/free/png-512/documentation-1502741-1272951.png\" width=50 title=\"Documentation\"/>](https://docs.dltk.ai) | [<img src=\"https://cdn4.iconfinder.com/data/icons/iconsimple-logotypes/512/github-512.png\" width=50 title=\"Documentation\"/>](https://docs.dltk.ai)| \n",
    "|:-------------:|:-------:|:--------:|\n",
    "|pypi|Documentation|Github|"
   ]
  }
 ],
 "metadata": {
  "kernelspec": {
   "display_name": "Python 3",
   "language": "python",
   "name": "python3"
  },
  "language_info": {
   "codemirror_mode": {
    "name": "ipython",
    "version": 3
   },
   "file_extension": ".py",
   "mimetype": "text/x-python",
   "name": "python",
   "nbconvert_exporter": "python",
   "pygments_lexer": "ipython3",
   "version": "3.8.3"
  }
 },
 "nbformat": 4,
 "nbformat_minor": 4
}
