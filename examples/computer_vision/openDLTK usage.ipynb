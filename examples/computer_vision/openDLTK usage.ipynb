{
 "cells": [
  {
   "cell_type": "code",
   "execution_count": 5,
   "metadata": {},
   "outputs": [
    {
     "name": "stdout",
     "output_type": "stream",
     "text": [
      "{'nltk_vader': {'emotion': 'POSITIVE', 'scores': {'compound': 0.7496, 'negative': 0.0, 'positive': 0.347, 'neutral': 0.653}}, 'azure': {'emotion': 'POSITIVE', 'scores': {'positive': 1.0, 'neutral': 0.0, 'negative': 0.0}}}\n"
     ]
    }
   ],
   "source": [
    "import dltk_ai\n",
    "\n",
    "client = dltk_ai.DltkAiClient(base_url='http://12.1.1.5:8000')\n",
    "\n",
    "text = \"The product is very easy to use and has got a really good life expectancy.\"\n",
    "\n",
    "sentiment_analysis_response = client.sentiment_analysis(text, ['nltk_vader', 'azure'])\n",
    "\n",
    "print(sentiment_analysis_response)"
   ]
  },
  {
   "cell_type": "code",
   "execution_count": 6,
   "metadata": {},
   "outputs": [
    {
     "data": {
      "text/plain": [
       "{'nltk_vader': {'emotion': 'POSITIVE',\n",
       "  'scores': {'compound': 0.7496,\n",
       "   'negative': 0.0,\n",
       "   'positive': 0.347,\n",
       "   'neutral': 0.653}},\n",
       " 'azure': {'emotion': 'POSITIVE',\n",
       "  'scores': {'positive': 1.0, 'neutral': 0.0, 'negative': 0.0}}}"
      ]
     },
     "execution_count": 6,
     "metadata": {},
     "output_type": "execute_result"
    }
   ],
   "source": [
    "sentiment_analysis_response"
   ]
  },
  {
   "cell_type": "code",
   "execution_count": null,
   "metadata": {},
   "outputs": [],
   "source": []
  }
 ],
 "metadata": {
  "hide_input": false,
  "kernelspec": {
   "display_name": "dltk_pypi_102",
   "language": "python",
   "name": "dltk_pypi_102"
  },
  "language_info": {
   "codemirror_mode": {
    "name": "ipython",
    "version": 3
   },
   "file_extension": ".py",
   "mimetype": "text/x-python",
   "name": "python",
   "nbconvert_exporter": "python",
   "pygments_lexer": "ipython3",
   "version": "3.8.0"
  }
 },
 "nbformat": 4,
 "nbformat_minor": 4
}
