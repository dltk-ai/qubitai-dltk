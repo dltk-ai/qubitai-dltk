{
 "cells": [
  {
   "cell_type": "markdown",
   "id": "advance-inquiry",
   "metadata": {},
   "source": [
    "### Natural Language Processing using DLTK"
   ]
  },
  {
   "cell_type": "markdown",
   "id": "spoken-dryer",
   "metadata": {},
   "source": [
    "#### Introduction\n",
    "\n",
    "DLTK's Natural Language Processing module provides below techniques to analyse text\n",
    "\n",
    "1. Sentiment Analysis\n",
    "2. Parts of Speech Tagging\n",
    "3. Named Entity Recognition\n",
    "4. Dependancy Parser\n",
    "5. Tags"
   ]
  },
  {
   "cell_type": "markdown",
   "id": "dietary-multimedia",
   "metadata": {},
   "source": [
    "#### Setup"
   ]
  },
  {
   "cell_type": "markdown",
   "id": "beautiful-indiana",
   "metadata": {},
   "source": [
    "> <u>Parameters Descriptions</u>\n",
    ">\n",
    "> **API key**: `If authentication is enabled`, you need to provide a valid API key\n",
    ">\n",
    "> **base_url**: url where kong/base service provided by OpenDLTK is deployed."
   ]
  },
  {
   "cell_type": "code",
   "execution_count": 8,
   "id": "certain-absence",
   "metadata": {},
   "outputs": [],
   "source": [
    "import dltk_ai\n",
    "client = dltk_ai.DltkAiClient(base_url='http://localhost:8000')"
   ]
  },
  {
   "cell_type": "markdown",
   "id": "steady-flavor",
   "metadata": {},
   "source": [
    "<div class=\"alert alert-block alert-info\">\n",
    "<b>See Also:</b> \n",
    "\n",
    " \n",
    "\n",
    "1. [How to generate API key](https://docs.dltk.ai/qubitai-dltk/docs/build/html/getting_started/generateAPIkey.html)\n",
    "2. [OpenDLTK deployment](http://docs.dltk.ai/qubitai-dltk/docs/build/html/getting_started/openDLTK_setup.html)\n",
    "\n",
    " \n",
    "\n",
    "</div>"
   ]
  },
  {
   "cell_type": "markdown",
   "id": "deadly-addition",
   "metadata": {},
   "source": [
    "### Sentiment Analysis\n",
    "\n",
    ">Sentiment analysis (also known as opinion mining or emotion AI) is the use of natural language processing, text analysis, computational linguistics, and biometrics to systematically identify, extract, quantify, and study affective states and subjective information. Sentiment analysis is widely applied to voice of the customer materials such as reviews and survey responses, online and social media, and healthcare materials for applications that range from marketing to customer service to clinical medicine.~[wikipedia](https://en.wikipedia.org/wiki/Sentiment_analysis)"
   ]
  },
  {
   "cell_type": "code",
   "execution_count": 15,
   "id": "medical-delhi",
   "metadata": {},
   "outputs": [
    {
     "name": "stdout",
     "output_type": "stream",
     "text": [
      "{'nltk_vader': {'emotion': 'POSITIVE', 'scores': {'compound': 0.4201, 'negative': 0.0, 'positive': 0.285, 'neutral': 0.715}}}\n"
     ]
    }
   ],
   "source": [
    "text = \"I really like the new design of your website\"\n",
    "\n",
    "dltk_sentiment = client.sentiment_analysis(text)\n",
    "print(dltk_sentiment)"
   ]
  },
  {
   "cell_type": "markdown",
   "id": "suburban-police",
   "metadata": {},
   "source": [
    "<div class=\"alert alert-block alert-danger\"> <b>Caution:</b> Run below cell, only if <b>Supported AI Engine Credentials</b> are updated in openDLTK configurations while installation </div>"
   ]
  },
  {
   "cell_type": "code",
   "execution_count": 16,
   "id": "radical-episode",
   "metadata": {},
   "outputs": [
    {
     "name": "stdout",
     "output_type": "stream",
     "text": [
      "{'azure': {'emotion': 'NEUTRAL', 'scores': {'positive': 0.19, 'neutral': 0.81, 'negative': 0.0}}}\n"
     ]
    }
   ],
   "source": [
    "azure_sentiment = client.sentiment_analysis(text, sources=['azure'])\n",
    "print(azure_sentiment)"
   ]
  },
  {
   "cell_type": "markdown",
   "id": "computational-airfare",
   "metadata": {},
   "source": [
    "### Parts of Speech Tagging\n",
    "\n",
    ">In corpus linguistics, part-of-speech tagging (POS tagging or PoS tagging or POST), also called grammatical tagging is the process of marking up a word in a text (corpus) as corresponding to a particular part of speech,[1] based on both its definition and its context. A simplified form of this is commonly taught to school-age children, in the identification of words as nouns, verbs, adjectives, adverbs, etc.~[wikipedia](https://en.wikipedia.org/wiki/Part-of-speech_tagging)"
   ]
  },
  {
   "cell_type": "code",
   "execution_count": 11,
   "id": "chubby-lingerie",
   "metadata": {},
   "outputs": [
    {
     "name": "stdout",
     "output_type": "stream",
     "text": [
      "{'spacy': {'result': {'The': 'DT', 'old': 'JJ', 'tired': 'JJ', 'man': 'NN', 'was': 'VBD', 'sitting': 'VBG', 'under': 'IN', 'a': 'DT', 'tree': 'NN', 'and': 'CC', 'patiently': 'RB', 'waiting': 'VBG', 'for': 'IN', 'his': 'PRP$', 'son': 'NN', 'to': 'TO', 'arrive': 'VB'}}}\n"
     ]
    }
   ],
   "source": [
    "text = \"The old tired man was sitting under a tree and patiently waiting for his son to arrive\"\n",
    "\n",
    "dltk_pos_tagger = client.pos_tagger(text)\n",
    "print(dltk_pos_tagger)"
   ]
  },
  {
   "cell_type": "markdown",
   "id": "surface-account",
   "metadata": {},
   "source": [
    "### Named Entity Recognition\n",
    "\n",
    ">Named-entity recognition (NER) (also known as (named) entity identification, entity chunking, and entity extraction) is a subtask of information extraction that seeks to locate and classify named entities mentioned in unstructured text into pre-defined categories such as person names, organizations, locations, medical codes, time expressions, quantities, monetary values, percentages, etc.~[wikipedia](https://en.wikipedia.org/wiki/Named-entity_recognition)"
   ]
  },
  {
   "cell_type": "code",
   "execution_count": 12,
   "id": "dramatic-procedure",
   "metadata": {},
   "outputs": [
    {
     "name": "stdout",
     "output_type": "stream",
     "text": [
      "{'spacy': {'result': {'Delhi': 'GPE', '1.3': 'CARDINAL', 'Arvind Kejriwal': 'PERSON'}}}\n"
     ]
    }
   ],
   "source": [
    "text = \"Delhi has a population of 1.3 crore. Arvind Kejriwal is the Chief Minister of Delhi\"\n",
    "\n",
    "dltk_ner_tagger = client.ner_tagger(text)\n",
    "print(dltk_ner_tagger)"
   ]
  },
  {
   "cell_type": "markdown",
   "id": "wireless-cooking",
   "metadata": {},
   "source": [
    "### Dependency Parser\n",
    "\n",
    ">Dependency grammar (DG) is a class of modern grammatical theories that are all based on the dependency relation (as opposed to the constituency relation of phrase structure) and that can be traced back primarily to the work of Lucien Tesnière. Dependency is the notion that linguistic units, e.g. words, are connected to each other by directed links. The (finite) verb is taken to be the structural center of clause structure. All other syntactic units (words) are either directly or indirectly connected to the verb in terms of the directed links, which are called dependencies.~[wikipedia](https://en.wikipedia.org/wiki/Dependency_grammar)"
   ]
  },
  {
   "cell_type": "code",
   "execution_count": 13,
   "id": "japanese-cliff",
   "metadata": {},
   "outputs": [
    {
     "data": {
      "text/plain": [
       "{'Natural': {'dep': 'amod',\n",
       "  'headText': 'language',\n",
       "  'headPOS': 'NOUN',\n",
       "  'children': []},\n",
       " 'language': {'dep': 'compound',\n",
       "  'headText': 'data',\n",
       "  'headPOS': 'NOUN',\n",
       "  'children': ['natural']},\n",
       " 'processing': {'dep': 'nsubj',\n",
       "  'headText': 'is',\n",
       "  'headPOS': 'AUX',\n",
       "  'children': ['language']},\n",
       " 'is': {'dep': 'ROOT',\n",
       "  'headText': 'is',\n",
       "  'headPOS': 'AUX',\n",
       "  'children': ['processing', 'subfield', '.']},\n",
       " 'a': {'dep': 'det',\n",
       "  'headText': 'subfield',\n",
       "  'headPOS': 'NOUN',\n",
       "  'children': []},\n",
       " 'subfield': {'dep': 'attr',\n",
       "  'headText': 'is',\n",
       "  'headPOS': 'AUX',\n",
       "  'children': ['a', 'of', ',', 'program']},\n",
       " 'of': {'dep': 'prep',\n",
       "  'headText': 'amounts',\n",
       "  'headPOS': 'NOUN',\n",
       "  'children': ['data']},\n",
       " 'linguistics': {'dep': 'pobj',\n",
       "  'headText': 'of',\n",
       "  'headPOS': 'ADP',\n",
       "  'children': [',', 'science']},\n",
       " ',': {'dep': 'punct',\n",
       "  'headText': 'subfield',\n",
       "  'headPOS': 'NOUN',\n",
       "  'children': []},\n",
       " 'computer': {'dep': 'compound',\n",
       "  'headText': 'science',\n",
       "  'headPOS': 'NOUN',\n",
       "  'children': []},\n",
       " 'science': {'dep': 'conj',\n",
       "  'headText': 'linguistics',\n",
       "  'headPOS': 'NOUN',\n",
       "  'children': ['computer', ',', 'and', 'intelligence']},\n",
       " 'and': {'dep': 'cc',\n",
       "  'headText': 'process',\n",
       "  'headPOS': 'VERB',\n",
       "  'children': []},\n",
       " 'artificial': {'dep': 'amod',\n",
       "  'headText': 'intelligence',\n",
       "  'headPOS': 'NOUN',\n",
       "  'children': []},\n",
       " 'intelligence': {'dep': 'conj',\n",
       "  'headText': 'science',\n",
       "  'headPOS': 'NOUN',\n",
       "  'children': ['artificial', 'concerned']},\n",
       " 'concerned': {'dep': 'acl',\n",
       "  'headText': 'intelligence',\n",
       "  'headPOS': 'NOUN',\n",
       "  'children': ['with']},\n",
       " 'with': {'dep': 'prep',\n",
       "  'headText': 'concerned',\n",
       "  'headPOS': 'VERB',\n",
       "  'children': ['interactions']},\n",
       " 'the': {'dep': 'det',\n",
       "  'headText': 'interactions',\n",
       "  'headPOS': 'NOUN',\n",
       "  'children': []},\n",
       " 'interactions': {'dep': 'pobj',\n",
       "  'headText': 'with',\n",
       "  'headPOS': 'ADP',\n",
       "  'children': ['the', 'between']},\n",
       " 'between': {'dep': 'prep',\n",
       "  'headText': 'interactions',\n",
       "  'headPOS': 'NOUN',\n",
       "  'children': ['computers']},\n",
       " 'computers': {'dep': 'dobj',\n",
       "  'headText': 'program',\n",
       "  'headPOS': 'VERB',\n",
       "  'children': []},\n",
       " 'human': {'dep': 'amod',\n",
       "  'headText': 'language',\n",
       "  'headPOS': 'NOUN',\n",
       "  'children': []},\n",
       " 'in': {'dep': 'prep',\n",
       "  'headText': 'program',\n",
       "  'headPOS': 'VERB',\n",
       "  'children': ['particular']},\n",
       " 'particular': {'dep': 'amod',\n",
       "  'headText': 'in',\n",
       "  'headPOS': 'ADP',\n",
       "  'children': []},\n",
       " 'how': {'dep': 'advmod',\n",
       "  'headText': 'program',\n",
       "  'headPOS': 'VERB',\n",
       "  'children': []},\n",
       " 'to': {'dep': 'aux',\n",
       "  'headText': 'process',\n",
       "  'headPOS': 'VERB',\n",
       "  'children': []},\n",
       " 'program': {'dep': 'relcl',\n",
       "  'headText': 'subfield',\n",
       "  'headPOS': 'NOUN',\n",
       "  'children': ['in', 'how', 'to', 'computers', 'process']},\n",
       " 'process': {'dep': 'xcomp',\n",
       "  'headText': 'program',\n",
       "  'headPOS': 'VERB',\n",
       "  'children': ['to', 'and', 'analyze']},\n",
       " 'analyze': {'dep': 'conj',\n",
       "  'headText': 'process',\n",
       "  'headPOS': 'VERB',\n",
       "  'children': ['amounts']},\n",
       " 'large': {'dep': 'amod',\n",
       "  'headText': 'amounts',\n",
       "  'headPOS': 'NOUN',\n",
       "  'children': []},\n",
       " 'amounts': {'dep': 'dobj',\n",
       "  'headText': 'analyze',\n",
       "  'headPOS': 'VERB',\n",
       "  'children': ['large', 'of']},\n",
       " 'natural': {'dep': 'amod',\n",
       "  'headText': 'language',\n",
       "  'headPOS': 'NOUN',\n",
       "  'children': []},\n",
       " 'data': {'dep': 'pobj',\n",
       "  'headText': 'of',\n",
       "  'headPOS': 'ADP',\n",
       "  'children': ['language']},\n",
       " '.': {'dep': 'punct', 'headText': 'is', 'headPOS': 'AUX', 'children': []}}"
      ]
     },
     "execution_count": 13,
     "metadata": {},
     "output_type": "execute_result"
    }
   ],
   "source": [
    "text = \"Natural language processing is a subfield of linguistics, computer science, and artificial intelligence concerned with the interactions between computers and human language, in particular how to program computers to process and analyze large amounts of natural language data.\"\n",
    "\n",
    "dltk_dependency_parser = client.dependency_parser(text)\n",
    "dltk_dependency_parser"
   ]
  },
  {
   "cell_type": "markdown",
   "id": "wanted-thumb",
   "metadata": {},
   "source": [
    "### Tags Extraction\n"
   ]
  },
  {
   "cell_type": "markdown",
   "id": "democratic-picture",
   "metadata": {},
   "source": [
    ">Tags extraction is a textual information processing task concerned with the automatic extraction of representative and characteristic phrases from a document that express all the key aspects of its content. Extracts key words from a sentence"
   ]
  },
  {
   "cell_type": "code",
   "execution_count": 14,
   "id": "applicable-bermuda",
   "metadata": {},
   "outputs": [
    {
     "data": {
      "text/plain": [
       "{'rake': {'tags': ['artificial intelligence',\n",
       "   'intelligence demonstrated',\n",
       "   'machines',\n",
       "   'unlike',\n",
       "   'natural intelligence displayed',\n",
       "   'humans',\n",
       "   'animals',\n",
       "   'involves consciousness',\n",
       "   'emotionality']}}"
      ]
     },
     "execution_count": 14,
     "metadata": {},
     "output_type": "execute_result"
    }
   ],
   "source": [
    "text = \"Artificial intelligence is intelligence demonstrated by machines, unlike the natural intelligence displayed by humans and animals, which involves consciousness and emotionality.\"\n",
    "\n",
    "dltk_tags = client.tags(text)\n",
    "dltk_tags"
   ]
  },
  {
   "cell_type": "markdown",
   "id": "caring-cooperative",
   "metadata": {},
   "source": [
    "#### References\n",
    "\n",
    "For more detail on using NLP APIs please refer [DLTK NLP Documentation](https://docs.dltk.ai/natural_language_processing/index.html)"
   ]
  },
  {
   "cell_type": "markdown",
   "id": "blond-enterprise",
   "metadata": {},
   "source": [
    ":\n",
    "<center><b>For More Details about DLTK</b></center>"
   ]
  },
  {
   "cell_type": "markdown",
   "id": "characteristic-knife",
   "metadata": {},
   "source": [
    "|[<img src=\"https://pbs.twimg.com/profile_images/909757546063323137/-RIWgodF.jpg\" width=50 title=\"Pypi Logo\"/>](https://pypi.org/project/qubitai-dltk/) |[<img src=\"https://cdn.iconscout.com/icon/free/png-512/documentation-1502741-1272951.png\" width=50 title=\"Documentation\"/>](https://docs.dltk.ai) | [<img src=\"https://cdn4.iconfinder.com/data/icons/iconsimple-logotypes/512/github-512.png\" width=50 title=\"Documentation\"/>](https://docs.dltk.ai)| \n",
    "|:-------------:|:-------:|:--------:|\n",
    "|pypi|Documentation|Github|"
   ]
  }
 ],
 "metadata": {
  "kernelspec": {
   "display_name": "sdk_tutorials",
   "language": "python",
   "name": "sdk_tutorials"
  },
  "language_info": {
   "codemirror_mode": {
    "name": "ipython",
    "version": 3
   },
   "file_extension": ".py",
   "mimetype": "text/x-python",
   "name": "python",
   "nbconvert_exporter": "python",
   "pygments_lexer": "ipython3",
   "version": "3.8.0"
  }
 },
 "nbformat": 4,
 "nbformat_minor": 5
}
